{
 "cells": [
  {
   "cell_type": "markdown",
   "id": "949dfb2b",
   "metadata": {
    "papermill": {
     "duration": 0.016815,
     "end_time": "2024-08-30T14:40:21.103345",
     "exception": false,
     "start_time": "2024-08-30T14:40:21.086530",
     "status": "completed"
    },
    "tags": []
   },
   "source": [
    "# Dataset Description\n",
    "## This dataset contains information about student performance in Portugese in two different secondary schools. The dataset includes student grades, demographic, social and school related features and it was collected by using school reports and questionnaires. The attribute information can be seen below:"
   ]
  },
  {
   "cell_type": "markdown",
   "id": "93888c8c",
   "metadata": {
    "papermill": {
     "duration": 0.014803,
     "end_time": "2024-08-30T14:40:21.133926",
     "exception": false,
     "start_time": "2024-08-30T14:40:21.119123",
     "status": "completed"
    },
    "tags": []
   },
   "source": [
    "* school: student's school (binary: 'GP' - Gabriel Pereira or 'MS' - Mousinho da Silveira)\n",
    "* sex: student's sex (binary: 'F' - female or 'M' - male)\n",
    "* age: student's age (numeric: from 15 to 22)\n",
    "* address: student's home address type (binary: 'U' - urban or 'R' - rural)\n",
    "* famsize: family size (binary: 'LE3' - less or equal to 3 or 'GT3' - greater than 3)\n",
    "* Pstatus: parent's cohabitation status (binary: 'T' - living together or 'A' - apart)\n",
    "* Medu: mother's education (numeric: 0 - none, 1 - primary education (4th grade), 2- 5th to 9th grade 3-secondary education or 4-higher education)\n",
    "* Fedu: father's education (numeric: 0 - none, 1 - primary education (4th grade), 2- 5th to 9th grade, 3 - secondary education or 4- higher education)\n",
    "* Mjob: mother's job (nominal: 'teacher', 'health' care related, civil 'services' (e.g. administrative or police), 'at_home' or 'other')\n",
    "* Fjob: father's job (nominal: 'teacher', 'health' care related, civil 'services' (e.g. administrative or police), 'at_home' or 'other')\n",
    "* reason: reason to choose this school (nominal: close to 'home', school 'reputation', 'course' preference or 'other')\n",
    "* guardian: student's guardian (nominal: 'mother', 'father' or 'other')\n",
    "* traveltime: home to school travel time (numeric: 1 - <15 min., 2 - 15 to 30 min., 3 - 30 min. to 1 hour, or 4 - >1 hour)\n",
    "* studytime: weekly study time (numeric: 1 - <2 hours, 2 - 2 to 5 hours, 3 - 5 to 10 hours, or 4 - >10 hours)\n",
    "* failures: number of past class failures (numeric: n if 1<=n<3, else 4)\n",
    "* schoolsup: extra educational support (binary: yes or no)\n",
    "* famsup: family educational support (binary: yes or no)\n",
    "* paid: extra paid classes within the course subject (Math or Portuguese) (binary: yes or no)\n",
    "* activities: extra-curricular activities (binary: yes or no)\n",
    "* nursery: attended nursery school (binary: yes or no)\n",
    "* higher: wants to take higher education (binary: yes or no)\n",
    "* internet: Internet access at home (binary: yes or no)\n",
    "* romantic: with a romantic relationship (binary: yes or no)\n",
    "* famrel: quality of family relationships (numeric: from 1 - very bad to 5 - excellent)\n",
    "* freetime: free time after school (numeric: from 1 - very low to 5 - very high)\n",
    "* goout: going out with friends (numeric: from 1 - very low to 5 - very high)\n",
    "* Dalc: workday alcohol consumption (numeric: from 1 - very low to 5 - very high)\n",
    "* Walc: weekend alcohol consumption (numeric: from 1 - very low to 5 - very high)\n",
    "* health: current health status (numeric: from 1 - very bad to 5 - very good)\n",
    "* absences: number of school absences (numeric: from 0 to 93)\n",
    "* G1: first period grade (numeric: from 0 to 20)\n",
    "* G2: second period grade (numeric: from 0 to 20)\n",
    "* G3: final grade (numeric: from 0 to 20, output target)"
   ]
  },
  {
   "cell_type": "markdown",
   "id": "dc0fae27",
   "metadata": {
    "papermill": {
     "duration": 0.01688,
     "end_time": "2024-08-30T14:40:21.169185",
     "exception": false,
     "start_time": "2024-08-30T14:40:21.152305",
     "status": "completed"
    },
    "tags": []
   },
   "source": [
    "# Import Necessary Library"
   ]
  },
  {
   "cell_type": "code",
   "execution_count": null,
   "id": "5579c23b",
   "metadata": {
    "execution": {
     "iopub.execute_input": "2024-08-30T14:40:21.201865Z",
     "iopub.status.busy": "2024-08-30T14:40:21.201409Z",
     "iopub.status.idle": "2024-08-30T14:40:23.691613Z",
     "shell.execute_reply": "2024-08-30T14:40:23.690347Z"
    },
    "papermill": {
     "duration": 2.510864,
     "end_time": "2024-08-30T14:40:23.694510",
     "exception": false,
     "start_time": "2024-08-30T14:40:21.183646",
     "status": "completed"
    },
    "tags": []
   },
   "outputs": [],
   "source": [
    "import pandas as pd\n",
    "import numpy as np\n",
    "import matplotlib.pyplot as plt\n",
    "import seaborn as sns\n",
    "import warnings\n",
    "from scipy import stats\n",
    "from math import sqrt\n",
    "%matplotlib inline"
   ]
  },
  {
   "cell_type": "code",
   "execution_count": null,
   "id": "802f0242",
   "metadata": {
    "execution": {
     "iopub.execute_input": "2024-08-30T14:40:23.729000Z",
     "iopub.status.busy": "2024-08-30T14:40:23.728419Z",
     "iopub.status.idle": "2024-08-30T14:40:23.793735Z",
     "shell.execute_reply": "2024-08-30T14:40:23.792440Z"
    },
    "papermill": {
     "duration": 0.086327,
     "end_time": "2024-08-30T14:40:23.796457",
     "exception": false,
     "start_time": "2024-08-30T14:40:23.710130",
     "status": "completed"
    },
    "tags": []
   },
   "outputs": [],
   "source": [
    "df = pd.read_csv(\"/kaggle/input/student-performance-data-set/student-por.csv\")\n",
    "df.head(5)"
   ]
  },
  {
   "cell_type": "code",
   "execution_count": null,
   "id": "4cbaf016",
   "metadata": {
    "execution": {
     "iopub.execute_input": "2024-08-30T14:40:23.829140Z",
     "iopub.status.busy": "2024-08-30T14:40:23.828648Z",
     "iopub.status.idle": "2024-08-30T14:40:23.835507Z",
     "shell.execute_reply": "2024-08-30T14:40:23.834373Z"
    },
    "papermill": {
     "duration": 0.025587,
     "end_time": "2024-08-30T14:40:23.837937",
     "exception": false,
     "start_time": "2024-08-30T14:40:23.812350",
     "status": "completed"
    },
    "tags": []
   },
   "outputs": [],
   "source": [
    "print(\"Data Shape: number of Rows = {0}, number of Columns = {1}\".format(df.shape[0],df.shape[1]))"
   ]
  },
  {
   "cell_type": "code",
   "execution_count": null,
   "id": "4768d453",
   "metadata": {},
   "outputs": [],
   "source": [
    "#gpt建議\n",
    "print(f\"Data Shape: number of Rows = {df.shape[0]}, number of Columns = {df.shape[1]}\")\n"
   ]
  },
  {
   "cell_type": "code",
   "execution_count": null,
   "id": "45528770",
   "metadata": {
    "execution": {
     "iopub.execute_input": "2024-08-30T14:40:23.870260Z",
     "iopub.status.busy": "2024-08-30T14:40:23.869834Z",
     "iopub.status.idle": "2024-08-30T14:40:23.895129Z",
     "shell.execute_reply": "2024-08-30T14:40:23.893910Z"
    },
    "papermill": {
     "duration": 0.044569,
     "end_time": "2024-08-30T14:40:23.897938",
     "exception": false,
     "start_time": "2024-08-30T14:40:23.853369",
     "status": "completed"
    },
    "tags": []
   },
   "outputs": [],
   "source": [
    "df.info()"
   ]
  },
  {
   "cell_type": "markdown",
   "id": "57c78e1e",
   "metadata": {},
   "source": [
    "顯示資料集中所有數值型欄位的統計摘要資訊。\n",
    "\n",
    "包括每個欄位的平均值、標準差、最小值、最大值與四分位數等。\n",
    "\n",
    "使用 .T（轉置）是為了讓欄位名稱橫向呈現，更清楚易讀。\n",
    "\n",
    "可用來快速發現資料的分布狀況、是否有異常值或缺失值。\n",
    "\n"
   ]
  },
  {
   "cell_type": "code",
   "execution_count": null,
   "id": "e124422c",
   "metadata": {
    "execution": {
     "iopub.execute_input": "2024-08-30T14:40:23.932473Z",
     "iopub.status.busy": "2024-08-30T14:40:23.931302Z",
     "iopub.status.idle": "2024-08-30T14:40:23.992411Z",
     "shell.execute_reply": "2024-08-30T14:40:23.991129Z"
    },
    "papermill": {
     "duration": 0.080627,
     "end_time": "2024-08-30T14:40:23.994999",
     "exception": false,
     "start_time": "2024-08-30T14:40:23.914372",
     "status": "completed"
    },
    "tags": []
   },
   "outputs": [],
   "source": [
    "print(\"Show Statistical Description of Numerical Columns\")\n",
    "df.describe().T"
   ]
  },
  {
   "cell_type": "markdown",
   "id": "712841a7",
   "metadata": {
    "papermill": {
     "duration": 0.015514,
     "end_time": "2024-08-30T14:40:24.026388",
     "exception": false,
     "start_time": "2024-08-30T14:40:24.010874",
     "status": "completed"
    },
    "tags": []
   },
   "source": [
    "# Data Cleaning"
   ]
  },
  {
   "cell_type": "code",
   "execution_count": null,
   "id": "a49e8c74",
   "metadata": {
    "execution": {
     "iopub.execute_input": "2024-08-30T14:40:24.060573Z",
     "iopub.status.busy": "2024-08-30T14:40:24.060148Z",
     "iopub.status.idle": "2024-08-30T14:40:24.071172Z",
     "shell.execute_reply": "2024-08-30T14:40:24.069634Z"
    },
    "papermill": {
     "duration": 0.031262,
     "end_time": "2024-08-30T14:40:24.073817",
     "exception": false,
     "start_time": "2024-08-30T14:40:24.042555",
     "status": "completed"
    },
    "tags": []
   },
   "outputs": [],
   "source": [
    "#check for missing values\n",
    "df.isnull().sum()"
   ]
  },
  {
   "cell_type": "markdown",
   "id": "b7b0cee2",
   "metadata": {
    "papermill": {
     "duration": 0.016051,
     "end_time": "2024-08-30T14:40:24.107163",
     "exception": false,
     "start_time": "2024-08-30T14:40:24.091112",
     "status": "completed"
    },
    "tags": []
   },
   "source": [
    "No Missing Values in DataSet"
   ]
  },
  {
   "cell_type": "code",
   "execution_count": null,
   "id": "6b7d3161",
   "metadata": {
    "execution": {
     "iopub.execute_input": "2024-08-30T14:40:24.140813Z",
     "iopub.status.busy": "2024-08-30T14:40:24.140329Z",
     "iopub.status.idle": "2024-08-30T14:40:24.155606Z",
     "shell.execute_reply": "2024-08-30T14:40:24.154098Z"
    },
    "papermill": {
     "duration": 0.034972,
     "end_time": "2024-08-30T14:40:24.158260",
     "exception": false,
     "start_time": "2024-08-30T14:40:24.123288",
     "status": "completed"
    },
    "tags": []
   },
   "outputs": [],
   "source": [
    "# check for duplicates\n",
    "# 檢查是否有資料為重複\n",
    "df.duplicated().value_counts()"
   ]
  },
  {
   "cell_type": "markdown",
   "id": "799e38ee",
   "metadata": {
    "papermill": {
     "duration": 0.016146,
     "end_time": "2024-08-30T14:40:24.190210",
     "exception": false,
     "start_time": "2024-08-30T14:40:24.174064",
     "status": "completed"
    },
    "tags": []
   },
   "source": [
    "# Visualization"
   ]
  },
  {
   "cell_type": "markdown",
   "id": "ba0bac97",
   "metadata": {},
   "source": [
    "檢查性別是否平衡"
   ]
  },
  {
   "cell_type": "code",
   "execution_count": null,
   "id": "0c7598db",
   "metadata": {
    "execution": {
     "iopub.execute_input": "2024-08-30T14:40:24.225397Z",
     "iopub.status.busy": "2024-08-30T14:40:24.224930Z",
     "iopub.status.idle": "2024-08-30T14:40:24.586261Z",
     "shell.execute_reply": "2024-08-30T14:40:24.584860Z"
    },
    "papermill": {
     "duration": 0.382615,
     "end_time": "2024-08-30T14:40:24.589113",
     "exception": false,
     "start_time": "2024-08-30T14:40:24.206498",
     "status": "completed"
    },
    "tags": []
   },
   "outputs": [],
   "source": [
    "\n",
    "# 檢查性別是否平衡\n",
    "\n",
    "# Ignore warnings\n",
    "warnings.filterwarnings(\"ignore\")\n",
    "\n",
    "# Count the occurrences of each category in the 'sex' column\n",
    "target_count = df.sex.value_counts()\n",
    "\n",
    "# Print the count of females\n",
    "print('Female:', target_count[0])\n",
    "\n",
    "# Print the count of males\n",
    "print('Male:', target_count[1])\n",
    "\n",
    "# Create a count plot of 'sex' with seaborn\n",
    "sns.countplot(data=df, x=\"sex\", hue=\"sex\", palette=\"Blues\")\n",
    "\n",
    "# Set the title of the plot\n",
    "plt.title('Count of Sex') \n"
   ]
  },
  {
   "cell_type": "markdown",
   "id": "c37e40ff",
   "metadata": {},
   "source": [
    "「觀察 failures（過往學業失敗次數）是否與 sex（性別）有關聯。」\n"
   ]
  },
  {
   "cell_type": "code",
   "execution_count": null,
   "id": "ce9016b8",
   "metadata": {
    "execution": {
     "iopub.execute_input": "2024-08-30T14:40:24.626246Z",
     "iopub.status.busy": "2024-08-30T14:40:24.625717Z",
     "iopub.status.idle": "2024-08-30T14:40:24.966517Z",
     "shell.execute_reply": "2024-08-30T14:40:24.965068Z"
    },
    "papermill": {
     "duration": 0.361795,
     "end_time": "2024-08-30T14:40:24.969128",
     "exception": false,
     "start_time": "2024-08-30T14:40:24.607333",
     "status": "completed"
    },
    "tags": []
   },
   "outputs": [],
   "source": [
    "# 「觀察 failures（過往學業失敗次數）是否與 sex（性別）有關聯。」\n",
    "\n",
    "\n",
    "\n",
    "# Grouping the DataFrame by 'failures' and 'sex', counting the occurrences, and resetting the index\n",
    "failure_counts = df.groupby([\"failures\", \"sex\"]).size().reset_index(name=\"count\")\n",
    "\n",
    "# Printing the DataFrame showing counts of failures by sex\n",
    "print(failure_counts)\n",
    "\n",
    "# Creating a count plot of 'failures' with seaborn, differentiated by 'sex'\n",
    "sns.countplot(data=df, x=\"failures\", hue=\"sex\", palette=\"Blues\")\n",
    "\n",
    "# Setting the title of the plot\n",
    "plt.title('Count of Failures by Sex')\n"
   ]
  },
  {
   "cell_type": "markdown",
   "id": "86f07db3",
   "metadata": {},
   "source": [
    "「是否年齡與失敗次數之間有潛在關聯？年紀較大的學生是否較常失敗？」"
   ]
  },
  {
   "cell_type": "code",
   "execution_count": null,
   "id": "7dbc4c80",
   "metadata": {
    "execution": {
     "iopub.execute_input": "2024-08-30T14:40:25.005057Z",
     "iopub.status.busy": "2024-08-30T14:40:25.004628Z",
     "iopub.status.idle": "2024-08-30T14:40:25.461515Z",
     "shell.execute_reply": "2024-08-30T14:40:25.460149Z"
    },
    "papermill": {
     "duration": 0.478068,
     "end_time": "2024-08-30T14:40:25.464083",
     "exception": false,
     "start_time": "2024-08-30T14:40:24.986015",
     "status": "completed"
    },
    "tags": []
   },
   "outputs": [],
   "source": [
    "# Grouping the DataFrame by 'failures' and 'age', counting the occurrences, and resetting the index\n",
    "failure_counts = df.groupby([\"failures\", \"age\"]).size().reset_index(name=\"count\")\n",
    "\n",
    "# Printing the DataFrame showing counts of failures by age\n",
    "print(failure_counts)\n",
    "\n",
    "# Creating a count plot of 'failures' with seaborn, differentiated by 'age' and plotted horizontally\n",
    "sns.countplot(data=df, y='age', hue='failures', palette=\"rocket_r\")\n",
    "\n",
    "# Setting the title of the plot\n",
    "plt.title('Count of Failures by Age')\n",
    "\n",
    "# Setting the label for the y-axis\n",
    "plt.ylabel('Age')\n"
   ]
  },
  {
   "cell_type": "markdown",
   "id": "47cfc763",
   "metadata": {},
   "source": [
    "鄉村（R）與城市（U）的學生，是否在學業失敗上有明顯的分布差異。\n",
    "\n",
    "若某一居住地區在高失敗次數上特別集中，可能顯示教育資源或其他社經背景的影響。"
   ]
  },
  {
   "cell_type": "code",
   "execution_count": null,
   "id": "51cfcdf8",
   "metadata": {
    "execution": {
     "iopub.execute_input": "2024-08-30T14:40:25.503108Z",
     "iopub.status.busy": "2024-08-30T14:40:25.501946Z",
     "iopub.status.idle": "2024-08-30T14:40:25.865090Z",
     "shell.execute_reply": "2024-08-30T14:40:25.863747Z"
    },
    "papermill": {
     "duration": 0.384761,
     "end_time": "2024-08-30T14:40:25.867683",
     "exception": false,
     "start_time": "2024-08-30T14:40:25.482922",
     "status": "completed"
    },
    "tags": []
   },
   "outputs": [],
   "source": [
    "# Create a pivot table to count the occurrences of failures for each address type\n",
    "pivot_table = df.pivot_table(index='failures', columns='address', aggfunc='size')\n",
    "\n",
    "# Plot the heatmap using seaborn, with annotations, a colormap, and format for annotations\n",
    "sns.heatmap(pivot_table, annot=True, cmap='tab20c_r', fmt='g')\n",
    "\n",
    "# Add title to the plot\n",
    "plt.title('Distribution of Failures by Address Type')\n",
    "\n",
    "# Add label for the x-axis\n",
    "plt.xlabel('Address Type')\n",
    "\n",
    "# Add label for the y-axis\n",
    "plt.ylabel('Number of Failures')\n"
   ]
  },
  {
   "cell_type": "markdown",
   "id": "cb454a16",
   "metadata": {},
   "source": [
    "是否父母分居的學生，學業失敗次數有偏高趨勢？\n",
    "\n",
    "若 Pstatus=A 在高 failure 值有顯著偏多，可能暗示家庭結構對學習表現的影響。"
   ]
  },
  {
   "cell_type": "code",
   "execution_count": null,
   "id": "ab95aa08",
   "metadata": {
    "execution": {
     "iopub.execute_input": "2024-08-30T14:40:25.906911Z",
     "iopub.status.busy": "2024-08-30T14:40:25.906478Z",
     "iopub.status.idle": "2024-08-30T14:40:26.202493Z",
     "shell.execute_reply": "2024-08-30T14:40:26.200832Z"
    },
    "papermill": {
     "duration": 0.319215,
     "end_time": "2024-08-30T14:40:26.205756",
     "exception": false,
     "start_time": "2024-08-30T14:40:25.886541",
     "status": "completed"
    },
    "tags": []
   },
   "outputs": [],
   "source": [
    "# Create a pivot table to count the occurrences of failures for each Pstatus type\n",
    "pivot_table = df.pivot_table(index='failures', columns='Pstatus', aggfunc='size')\n",
    "\n",
    "# Plot the heatmap using seaborn, with annotations, a colormap, and format for annotations\n",
    "sns.heatmap(pivot_table, annot=True, cmap='tab20c_r', fmt='g')\n",
    "\n",
    "# Add title to the plot\n",
    "plt.title('Distribution of Failures by Pstatus Type')\n",
    "\n",
    "# Add label for the x-axis\n",
    "plt.xlabel('Pstatus Type')\n",
    "\n",
    "# Add label for the y-axis\n",
    "plt.ylabel('Number of Failures')\n"
   ]
  },
  {
   "cell_type": "markdown",
   "id": "985e422f",
   "metadata": {},
   "source": [
    "分析「父母是否同住」會不會影響學生三次成績的分布情況。"
   ]
  },
  {
   "cell_type": "code",
   "execution_count": null,
   "id": "53dea6e5",
   "metadata": {
    "execution": {
     "iopub.execute_input": "2024-08-30T14:40:26.246617Z",
     "iopub.status.busy": "2024-08-30T14:40:26.245803Z",
     "iopub.status.idle": "2024-08-30T14:40:27.316535Z",
     "shell.execute_reply": "2024-08-30T14:40:27.314999Z"
    },
    "papermill": {
     "duration": 1.09421,
     "end_time": "2024-08-30T14:40:27.319476",
     "exception": false,
     "start_time": "2024-08-30T14:40:26.225266",
     "status": "completed"
    },
    "tags": []
   },
   "outputs": [],
   "source": [
    "# Create subplots with 1 row and 3 columns, sharing y-axis\n",
    "fig, axes = plt.subplots(1, 3, figsize=(15, 5), sharey=False)\n",
    "\n",
    "# Iterate through grade periods and plot\n",
    "for i, grade_period in enumerate(['G1', 'G2', 'G3']):\n",
    "    sns.countplot(ax=axes[i], data=df, y=grade_period, hue=\"Pstatus\", palette=\"Blues\")\n",
    "    axes[i].set_title(f'{grade_period} vs Pstatus')\n",
    "    axes[i].set_ylabel(\"Grade\")\n",
    "\n",
    "# Show the plots\n",
    "plt.show()\n",
    "\n",
    "# Define columns for grade periods\n",
    "columns = [\"G1\", \"G2\", \"G3\"]\n",
    "\n",
    "# Iterate through grade periods\n",
    "for i in range(len(columns)):\n",
    "    # Group the DataFrame by 'Pstatus' and the current grade period, counting occurrences, and reset the index\n",
    "    Pstatus_counts = df.groupby([\"Pstatus\", columns[i]]).size().reset_index(name=\"count\")\n",
    "    # Print the results\n",
    "    print(columns[i],\"\\n\",Pstatus_counts)\n",
    "    print(\"\\n\")\n"
   ]
  },
  {
   "cell_type": "code",
   "execution_count": null,
   "id": "a4c61d0a",
   "metadata": {
    "execution": {
     "iopub.execute_input": "2024-08-30T14:40:27.362214Z",
     "iopub.status.busy": "2024-08-30T14:40:27.361657Z",
     "iopub.status.idle": "2024-08-30T14:40:29.096584Z",
     "shell.execute_reply": "2024-08-30T14:40:29.095145Z"
    },
    "papermill": {
     "duration": 1.759351,
     "end_time": "2024-08-30T14:40:29.099521",
     "exception": false,
     "start_time": "2024-08-30T14:40:27.340170",
     "status": "completed"
    },
    "tags": []
   },
   "outputs": [],
   "source": [
    "# Create subplots with 1 row and 3 columns, adjusting figure size\n",
    "fig, axes = plt.subplots(1, 3, figsize=(25, 15))\n",
    "\n",
    "# Iterate through grade periods and plot\n",
    "for i, grade in enumerate(['G1', 'G2', 'G3']):\n",
    "    sns.countplot(data=df, y=grade, hue='failures', ax=axes[i], palette='Set2', dodge=True)\n",
    "    axes[i].set_title(f'Failure vs {grade}')  # Set title for each subplot\n",
    "    axes[i].set_ylabel('Grade')  # Set label for y-axis\n",
    "    axes[i].set_xlabel('Count')  # Set label for x-axis\n",
    "\n",
    "# Show the plots\n",
    "plt.show()\n",
    "\n",
    "# Define columns for grade periods\n",
    "columns = [\"G1\", \"G2\", \"G3\"]\n",
    "\n",
    "# Iterate through grade periods\n",
    "for i in range(len(columns)):\n",
    "    # Group the DataFrame by 'failures' and the current grade period, counting occurrences, and reset the index\n",
    "    failures_counts = df.groupby([\"failures\", columns[i]]).size().reset_index(name=\"count\")\n",
    "    # Print the results\n",
    "    print(columns[i],\"\\n\",failures_counts)\n",
    "    print(\"\\n\")\n"
   ]
  },
  {
   "cell_type": "markdown",
   "id": "5d3f5102",
   "metadata": {},
   "source": [
    "這段是在看：「學生過去有幾次學業失敗，會不會影響他現在（G1/G2/G3）的成績分布？」\n",
    "\n"
   ]
  },
  {
   "cell_type": "code",
   "execution_count": null,
   "id": "38e20b70",
   "metadata": {
    "execution": {
     "iopub.execute_input": "2024-08-30T14:40:29.144682Z",
     "iopub.status.busy": "2024-08-30T14:40:29.144250Z",
     "iopub.status.idle": "2024-08-30T14:40:30.691235Z",
     "shell.execute_reply": "2024-08-30T14:40:30.689925Z"
    },
    "papermill": {
     "duration": 1.573458,
     "end_time": "2024-08-30T14:40:30.694339",
     "exception": false,
     "start_time": "2024-08-30T14:40:29.120881",
     "status": "completed"
    },
    "tags": []
   },
   "outputs": [],
   "source": [
    "# Create subplots with 1 row and 3 columns, adjusting figure size\n",
    "fig, axes = plt.subplots(1, 3, figsize=(25, 15))\n",
    "\n",
    "# Iterate through grade periods and plot\n",
    "for i, grade in enumerate(['G1', 'G2', 'G3']):\n",
    "    sns.countplot(data=df, y=grade, hue='studytime', ax=axes[i], palette='Set1', dodge=True)\n",
    "    axes[i].set_title(f'StudyTime vs {grade}')  # Set title for each subplot\n",
    "    axes[i].set_ylabel('Grade')  # Set label for y-axis\n",
    "    axes[i].set_xlabel('Count')  # Set label for x-axis\n",
    "\n",
    "# Show the plots\n",
    "plt.show()\n",
    "\n",
    "# Define columns for grade periods\n",
    "columns = [\"G1\", \"G2\", \"G3\"]\n",
    "\n",
    "# Iterate through grade periods\n",
    "for i in range(len(columns)):\n",
    "    # Group the DataFrame by 'studytime' and the current grade period, counting occurrences, and reset the index\n",
    "    studytime_counts = df.groupby([\"studytime\", columns[i]]).size().reset_index(name=\"count\")\n",
    "    # Print the results\n",
    "    print(columns[i],\"\\n\",studytime_counts)\n",
    "    print(\"\\n\")\n"
   ]
  },
  {
   "cell_type": "markdown",
   "id": "9eb8cfa4",
   "metadata": {},
   "source": [
    "「學生平常愛出去玩的程度（goout）會不會影響他們的成績？」\n",
    "\n"
   ]
  },
  {
   "cell_type": "code",
   "execution_count": null,
   "id": "c10e7cab",
   "metadata": {
    "execution": {
     "iopub.execute_input": "2024-08-30T14:40:30.739559Z",
     "iopub.status.busy": "2024-08-30T14:40:30.739114Z",
     "iopub.status.idle": "2024-08-30T14:40:32.628074Z",
     "shell.execute_reply": "2024-08-30T14:40:32.626685Z"
    },
    "papermill": {
     "duration": 1.922599,
     "end_time": "2024-08-30T14:40:32.638625",
     "exception": false,
     "start_time": "2024-08-30T14:40:30.716026",
     "status": "completed"
    },
    "tags": []
   },
   "outputs": [],
   "source": [
    "# Create subplots with 1 row and 3 columns, adjusting figure size\n",
    "fig, axes = plt.subplots(1, 3, figsize=(25, 15))\n",
    "\n",
    "# Iterate through grade periods and plot\n",
    "for i, grade in enumerate(['G1', 'G2', 'G3']):\n",
    "    sns.countplot(data=df, y=grade, hue='goout', ax=axes[i], palette='Dark2', dodge=True)\n",
    "    axes[i].set_title(f'Go Out vs {grade}')  # Set title for each subplot\n",
    "    axes[i].set_ylabel('Grade')  # Set label for y-axis\n",
    "    axes[i].set_xlabel('Count')  # Set label for x-axis\n",
    "\n",
    "# Show the plots\n",
    "plt.show()\n",
    "\n",
    "# Define columns for grade periods\n",
    "columns = [\"G1\", \"G2\", \"G3\"]\n",
    "\n",
    "# Iterate through grade periods\n",
    "for i in range(len(columns)):\n",
    "    # Group the DataFrame by 'goout' and the current grade period, counting occurrences, and reset the index\n",
    "    goout_counts = df.groupby([\"goout\", columns[i]]).size().reset_index(name=\"count\")\n",
    "    # Print the results\n",
    "    print(columns[i],\"\\n\",goout_counts)\n",
    "    print(\"\\n\")\n"
   ]
  },
  {
   "cell_type": "markdown",
   "id": "51f20ea6",
   "metadata": {},
   "source": [
    "「學生請假缺課次數（absences）是否會影響成績（G1/G2/G3）？」"
   ]
  },
  {
   "cell_type": "code",
   "execution_count": null,
   "id": "948b6791",
   "metadata": {
    "execution": {
     "iopub.execute_input": "2024-08-30T14:40:32.686860Z",
     "iopub.status.busy": "2024-08-30T14:40:32.686423Z",
     "iopub.status.idle": "2024-08-30T14:40:37.570371Z",
     "shell.execute_reply": "2024-08-30T14:40:37.569169Z"
    },
    "papermill": {
     "duration": 4.913155,
     "end_time": "2024-08-30T14:40:37.575312",
     "exception": false,
     "start_time": "2024-08-30T14:40:32.662157",
     "status": "completed"
    },
    "tags": []
   },
   "outputs": [],
   "source": [
    "# Create subplots with 1 row and 3 columns, adjusting figure size\n",
    "fig, axes = plt.subplots(1, 3, figsize=(35, 25))\n",
    "\n",
    "# Iterate through grade periods and plot\n",
    "for i, grade in enumerate(['G1', 'G2', 'G3']):\n",
    "    sns.countplot(data=df, y=grade, hue='absences', ax=axes[i], palette='rocket', dodge=True)\n",
    "    axes[i].set_title(f'Absences vs {grade}')  # Set title for each subplot\n",
    "    axes[i].set_ylabel('Grade')  # Set label for y-axis\n",
    "    axes[i].set_xlabel('Count')  # Set label for x-axis\n",
    "\n",
    "# Show the plots\n",
    "plt.show()\n",
    "\n",
    "# Define columns for grade periods\n",
    "columns = [\"G1\", \"G2\", \"G3\"]\n",
    "\n",
    "# Iterate through grade periods\n",
    "for i in range(len(columns)):\n",
    "    # Group the DataFrame by 'absences' and the current grade period, counting occurrences, and reset the index\n",
    "    absences_counts = df.groupby([\"absences\", columns[i]]).size().reset_index(name=\"count\")\n",
    "    # Print the results\n",
    "    print(columns[i],\"\\n\",absences_counts)\n",
    "    print(\"\\n\")\n"
   ]
  },
  {
   "cell_type": "markdown",
   "id": "18db70dc",
   "metadata": {},
   "source": [
    "「兩間學校（GP vs MS）的學生成績分布有什麼不同？」\n",
    "\n"
   ]
  },
  {
   "cell_type": "code",
   "execution_count": null,
   "id": "27e1fb3d",
   "metadata": {
    "execution": {
     "iopub.execute_input": "2024-08-30T14:40:37.630700Z",
     "iopub.status.busy": "2024-08-30T14:40:37.630256Z",
     "iopub.status.idle": "2024-08-30T14:40:39.498564Z",
     "shell.execute_reply": "2024-08-30T14:40:39.497009Z"
    },
    "papermill": {
     "duration": 1.897643,
     "end_time": "2024-08-30T14:40:39.501423",
     "exception": false,
     "start_time": "2024-08-30T14:40:37.603780",
     "status": "completed"
    },
    "tags": []
   },
   "outputs": [],
   "source": [
    "# Create subplots with 1 row and 3 columns, adjusting figure size\n",
    "fig, axes = plt.subplots(1, 3, figsize=(35, 25))\n",
    "\n",
    "# Iterate through grade periods and plot\n",
    "for i, grade in enumerate(['G1', 'G2', 'G3']):\n",
    "    sns.countplot(data=df, y=grade, hue='school', ax=axes[i], palette='Blues', dodge=True)\n",
    "    axes[i].set_title(f'School vs {grade}')  # Set title for each subplot\n",
    "    axes[i].set_ylabel('Grade')  # Set label for y-axis\n",
    "    axes[i].set_xlabel('Count')  # Set label for x-axis\n",
    "\n",
    "# Adjust layout to prevent overlapping\n",
    "plt.tight_layout()\n",
    "\n",
    "# Show the plots\n",
    "plt.show()\n",
    "\n",
    "# Define columns for grade periods\n",
    "columns = [\"G1\", \"G2\", \"G3\"]\n",
    "\n",
    "# Iterate through grade periods\n",
    "for i in range(len(columns)):\n",
    "    # Group the DataFrame by 'school' and the current grade period, counting occurrences, and reset the index\n",
    "    school_counts = df.groupby([\"school\", columns[i]]).size().reset_index(name=\"count\")\n",
    "    # Print the results\n",
    "    print(columns[i],\"\\n\",school_counts)\n",
    "    print(\"\\n\")\n"
   ]
  },
  {
   "cell_type": "markdown",
   "id": "af4f02da",
   "metadata": {
    "papermill": {
     "duration": 0.026333,
     "end_time": "2024-08-30T14:40:39.554716",
     "exception": false,
     "start_time": "2024-08-30T14:40:39.528383",
     "status": "completed"
    },
    "tags": []
   },
   "source": [
    "# Data Preprocessing"
   ]
  },
  {
   "cell_type": "code",
   "execution_count": null,
   "id": "b0ae63f1",
   "metadata": {
    "execution": {
     "iopub.execute_input": "2024-08-30T14:40:39.608095Z",
     "iopub.status.busy": "2024-08-30T14:40:39.607469Z",
     "iopub.status.idle": "2024-08-30T14:40:39.623643Z",
     "shell.execute_reply": "2024-08-30T14:40:39.622077Z"
    },
    "papermill": {
     "duration": 0.046738,
     "end_time": "2024-08-30T14:40:39.626838",
     "exception": false,
     "start_time": "2024-08-30T14:40:39.580100",
     "status": "completed"
    },
    "tags": []
   },
   "outputs": [],
   "source": [
    "df.info()"
   ]
  },
  {
   "cell_type": "markdown",
   "id": "2ce77a11",
   "metadata": {},
   "source": [
    "把資料中所有「非數值的類別欄位」轉成數字形式，方便後續做統計分析或餵進模型。"
   ]
  },
  {
   "cell_type": "code",
   "execution_count": null,
   "id": "07a68045",
   "metadata": {
    "execution": {
     "iopub.execute_input": "2024-08-30T14:40:39.680365Z",
     "iopub.status.busy": "2024-08-30T14:40:39.679918Z",
     "iopub.status.idle": "2024-08-30T14:40:39.896586Z",
     "shell.execute_reply": "2024-08-30T14:40:39.894536Z"
    },
    "papermill": {
     "duration": 0.24763,
     "end_time": "2024-08-30T14:40:39.899778",
     "exception": false,
     "start_time": "2024-08-30T14:40:39.652148",
     "status": "completed"
    },
    "tags": []
   },
   "outputs": [],
   "source": [
    "# Importing necessary library\n",
    "from sklearn.preprocessing import LabelEncoder\n",
    "\n",
    "# Creating a LabelEncoder object\n",
    "label_encoder = LabelEncoder()\n",
    "\n",
    "# List of columns to be encoded\n",
    "Columns = [\"school\",\"sex\",\"address\",\"famsize\",\"Pstatus\",\"Mjob\",\"Fjob\",\"reason\",\"guardian\",\"schoolsup\",\"famsup\",\"paid\",\"activities\",\n",
    "                \"nursery\",\"higher\",\"internet\",\"romantic\"]\n",
    "\n",
    "# Iterate through each column and perform label encoding\n",
    "for i in range(len(Columns)):\n",
    "    # Retrieve the unique values in the column\n",
    "    Country_keys = df[Columns[i]]\n",
    "    Country_keys = Country_keys.tolist()\n",
    "    \n",
    "    # Perform label encoding\n",
    "    Country_values = label_encoder.fit_transform(df[Columns[i]])\n",
    "    Country_values = Country_values.tolist()\n",
    "    \n",
    "    # Update the DataFrame with the encoded values\n",
    "    df[Columns[i]] = label_encoder.fit_transform(df[Columns[i]])\n",
    "    \n",
    "    # Create a dictionary mapping original values to encoded values\n",
    "    Country_dict = dict(zip(Country_keys, Country_values))\n",
    "    # Print the dictionary\n",
    "    print(Country_dict)\n"
   ]
  },
  {
   "cell_type": "markdown",
   "id": "1d4911ad",
   "metadata": {},
   "source": [
    "「畫出整份資料集中，所有數值欄位彼此之間的相關係數熱力圖（correlation heatmap）」"
   ]
  },
  {
   "cell_type": "code",
   "execution_count": null,
   "id": "cce8669a",
   "metadata": {
    "execution": {
     "iopub.execute_input": "2024-08-30T14:40:40.010931Z",
     "iopub.status.busy": "2024-08-30T14:40:40.010497Z",
     "iopub.status.idle": "2024-08-30T14:40:45.026429Z",
     "shell.execute_reply": "2024-08-30T14:40:45.025085Z"
    },
    "papermill": {
     "duration": 5.056196,
     "end_time": "2024-08-30T14:40:45.039703",
     "exception": false,
     "start_time": "2024-08-30T14:40:39.983507",
     "status": "completed"
    },
    "tags": []
   },
   "outputs": [],
   "source": [
    "# Calculate the correlation matrix\n",
    "corr = df.corr()\n",
    "\n",
    "# Create a figure with a large size\n",
    "plt.figure(figsize=(50,50))\n",
    "\n",
    "# Plot the heatmap using seaborn, with annotations and a blue colormap\n",
    "sns.heatmap(corr, annot=True, cmap=\"Blues\")\n",
    "\n",
    "# Set the title of the plot\n",
    "plt.title('Correlation Heatmap', fontsize=20)\n"
   ]
  },
  {
   "cell_type": "code",
   "execution_count": null,
   "id": "230b987b",
   "metadata": {
    "execution": {
     "iopub.execute_input": "2024-08-30T14:40:45.122289Z",
     "iopub.status.busy": "2024-08-30T14:40:45.121798Z",
     "iopub.status.idle": "2024-08-30T14:40:45.137646Z",
     "shell.execute_reply": "2024-08-30T14:40:45.136411Z"
    },
    "papermill": {
     "duration": 0.060906,
     "end_time": "2024-08-30T14:40:45.140327",
     "exception": false,
     "start_time": "2024-08-30T14:40:45.079421",
     "status": "completed"
    },
    "tags": []
   },
   "outputs": [],
   "source": [
    "df.info()"
   ]
  },
  {
   "cell_type": "markdown",
   "id": "530e8608",
   "metadata": {},
   "source": [
    "「畫出 G1 成績的盒狀圖＋散點圖，觀察是否有明顯離群值（極高或極低的成績）」"
   ]
  },
  {
   "cell_type": "code",
   "execution_count": null,
   "id": "b9cfc330",
   "metadata": {
    "execution": {
     "iopub.execute_input": "2024-08-30T14:40:45.222974Z",
     "iopub.status.busy": "2024-08-30T14:40:45.222527Z",
     "iopub.status.idle": "2024-08-30T14:40:46.319670Z",
     "shell.execute_reply": "2024-08-30T14:40:46.318322Z"
    },
    "papermill": {
     "duration": 1.143053,
     "end_time": "2024-08-30T14:40:46.323415",
     "exception": false,
     "start_time": "2024-08-30T14:40:45.180362",
     "status": "completed"
    },
    "tags": []
   },
   "outputs": [],
   "source": [
    "# cheaking the outliers in the feature 'G1'\n",
    "plt.figure(figsize = (60,30))\n",
    "sns.boxplot(x='G1', data=df)\n",
    "sns.stripplot(x='G1', data=df, color=\"#804630\")"
   ]
  },
  {
   "cell_type": "markdown",
   "id": "67b8d8df",
   "metadata": {},
   "source": [
    "「觀察 G2（第二學期成績）是否存在離群值。」"
   ]
  },
  {
   "cell_type": "code",
   "execution_count": null,
   "id": "ab6c0de7",
   "metadata": {
    "execution": {
     "iopub.execute_input": "2024-08-30T14:40:46.407584Z",
     "iopub.status.busy": "2024-08-30T14:40:46.407177Z",
     "iopub.status.idle": "2024-08-30T14:40:47.466541Z",
     "shell.execute_reply": "2024-08-30T14:40:47.465138Z"
    },
    "papermill": {
     "duration": 1.104399,
     "end_time": "2024-08-30T14:40:47.469011",
     "exception": false,
     "start_time": "2024-08-30T14:40:46.364612",
     "status": "completed"
    },
    "tags": []
   },
   "outputs": [],
   "source": [
    "# cheaking the outliers in the feature 'G2'\n",
    "plt.figure(figsize = (60,30))\n",
    "sns.boxplot(x='G2', data=df)\n",
    "sns.stripplot(x='G2', data=df, color=\"#804630\")"
   ]
  },
  {
   "cell_type": "markdown",
   "id": "47178f1c",
   "metadata": {},
   "source": [
    "用 z-score 方法來移除離群值（outliers），保留 z-score 小於 3 的資料列。"
   ]
  },
  {
   "cell_type": "code",
   "execution_count": null,
   "id": "30ef814b",
   "metadata": {
    "execution": {
     "iopub.execute_input": "2024-08-30T14:40:47.582217Z",
     "iopub.status.busy": "2024-08-30T14:40:47.581723Z",
     "iopub.status.idle": "2024-08-30T14:40:47.635007Z",
     "shell.execute_reply": "2024-08-30T14:40:47.633507Z"
    },
    "papermill": {
     "duration": 0.11346,
     "end_time": "2024-08-30T14:40:47.637644",
     "exception": false,
     "start_time": "2024-08-30T14:40:47.524184",
     "status": "completed"
    },
    "tags": []
   },
   "outputs": [],
   "source": [
    "np.abs(stats.zscore(df))\n",
    "np.abs(stats.zscore(df)).shape\n",
    "df = df[(np.abs(stats.zscore(df)) < 3).all(axis=1)]\n",
    "df"
   ]
  },
  {
   "cell_type": "code",
   "execution_count": null,
   "id": "449de4e2",
   "metadata": {
    "execution": {
     "iopub.execute_input": "2024-08-30T14:40:47.727265Z",
     "iopub.status.busy": "2024-08-30T14:40:47.726207Z",
     "iopub.status.idle": "2024-08-30T14:40:47.731548Z",
     "shell.execute_reply": "2024-08-30T14:40:47.730370Z"
    },
    "papermill": {
     "duration": 0.052198,
     "end_time": "2024-08-30T14:40:47.733967",
     "exception": false,
     "start_time": "2024-08-30T14:40:47.681769",
     "status": "completed"
    },
    "tags": []
   },
   "outputs": [],
   "source": [
    "#df['G2'] = np.log(df['G2'])"
   ]
  },
  {
   "cell_type": "markdown",
   "id": "42b18f51",
   "metadata": {},
   "source": [
    "「這段是在再次觀察清除離群值後的 G1 成績分布，看異常值是否成功被移除。」"
   ]
  },
  {
   "cell_type": "code",
   "execution_count": null,
   "id": "fb808ff0",
   "metadata": {
    "execution": {
     "iopub.execute_input": "2024-08-30T14:40:47.824472Z",
     "iopub.status.busy": "2024-08-30T14:40:47.824019Z",
     "iopub.status.idle": "2024-08-30T14:40:48.902482Z",
     "shell.execute_reply": "2024-08-30T14:40:48.901000Z"
    },
    "papermill": {
     "duration": 1.126732,
     "end_time": "2024-08-30T14:40:48.905121",
     "exception": false,
     "start_time": "2024-08-30T14:40:47.778389",
     "status": "completed"
    },
    "tags": []
   },
   "outputs": [],
   "source": [
    "# cheaking the outliers in the feature 'G1'\n",
    "plt.figure(figsize = (60,30))\n",
    "sns.boxplot(x='G1', data=df)\n",
    "sns.stripplot(x='G1', data=df, color=\"#804630\")"
   ]
  },
  {
   "cell_type": "markdown",
   "id": "a5c1d7a7",
   "metadata": {},
   "source": [
    "「這段是在觀察 G2 成績在清除離群值後的分布情況，看是否已成功移除異常資料。」"
   ]
  },
  {
   "cell_type": "code",
   "execution_count": null,
   "id": "fb634ae1",
   "metadata": {
    "execution": {
     "iopub.execute_input": "2024-08-30T14:40:49.000709Z",
     "iopub.status.busy": "2024-08-30T14:40:49.000241Z",
     "iopub.status.idle": "2024-08-30T14:40:50.076137Z",
     "shell.execute_reply": "2024-08-30T14:40:50.074555Z"
    },
    "papermill": {
     "duration": 1.128596,
     "end_time": "2024-08-30T14:40:50.079945",
     "exception": false,
     "start_time": "2024-08-30T14:40:48.951349",
     "status": "completed"
    },
    "tags": []
   },
   "outputs": [],
   "source": [
    "# cheaking the outliers in the feature 'G2'\n",
    "plt.figure(figsize = (60,30))\n",
    "sns.boxplot(x='G2', data=df)\n",
    "sns.stripplot(x='G2', data=df, color=\"#804630\")"
   ]
  },
  {
   "cell_type": "markdown",
   "id": "bdd29d18",
   "metadata": {
    "papermill": {
     "duration": 0.048215,
     "end_time": "2024-08-30T14:40:50.179768",
     "exception": false,
     "start_time": "2024-08-30T14:40:50.131553",
     "status": "completed"
    },
    "tags": []
   },
   "source": [
    "# Feature selection"
   ]
  },
  {
   "cell_type": "code",
   "execution_count": null,
   "id": "95393581",
   "metadata": {
    "execution": {
     "iopub.execute_input": "2024-08-30T14:40:50.279067Z",
     "iopub.status.busy": "2024-08-30T14:40:50.278584Z",
     "iopub.status.idle": "2024-08-30T14:40:50.284084Z",
     "shell.execute_reply": "2024-08-30T14:40:50.282965Z"
    },
    "papermill": {
     "duration": 0.057888,
     "end_time": "2024-08-30T14:40:50.286519",
     "exception": false,
     "start_time": "2024-08-30T14:40:50.228631",
     "status": "completed"
    },
    "tags": []
   },
   "outputs": [],
   "source": [
    "# We will apply feature selection method that can help us to choose the effective features in model \n",
    "# instead of choosing all the effective ones and non-effective ones that can help us in best modeling "
   ]
  },
  {
   "cell_type": "markdown",
   "id": "8bcc6462",
   "metadata": {},
   "source": [
    " 意思是：「拿掉 G3 成績，剩下所有欄位當作模型的輸入依據」"
   ]
  },
  {
   "cell_type": "code",
   "execution_count": null,
   "id": "4c276e84",
   "metadata": {
    "execution": {
     "iopub.execute_input": "2024-08-30T14:40:50.383237Z",
     "iopub.status.busy": "2024-08-30T14:40:50.382780Z",
     "iopub.status.idle": "2024-08-30T14:40:50.390413Z",
     "shell.execute_reply": "2024-08-30T14:40:50.389162Z"
    },
    "papermill": {
     "duration": 0.060179,
     "end_time": "2024-08-30T14:40:50.393020",
     "exception": false,
     "start_time": "2024-08-30T14:40:50.332841",
     "status": "completed"
    },
    "tags": []
   },
   "outputs": [],
   "source": [
    "x = df.drop('G3', axis=1)\n",
    "y = df['G3']"
   ]
  },
  {
   "cell_type": "markdown",
   "id": "3e7e18c4",
   "metadata": {},
   "source": [
    "「把目前資料（x）裡的所有欄位名稱（也就是特徵）列出來看一眼。"
   ]
  },
  {
   "cell_type": "code",
   "execution_count": null,
   "id": "0922c219",
   "metadata": {
    "execution": {
     "iopub.execute_input": "2024-08-30T14:40:50.488961Z",
     "iopub.status.busy": "2024-08-30T14:40:50.488511Z",
     "iopub.status.idle": "2024-08-30T14:40:50.496644Z",
     "shell.execute_reply": "2024-08-30T14:40:50.495313Z"
    },
    "papermill": {
     "duration": 0.05839,
     "end_time": "2024-08-30T14:40:50.498781",
     "exception": false,
     "start_time": "2024-08-30T14:40:50.440391",
     "status": "completed"
    },
    "tags": []
   },
   "outputs": [],
   "source": [
    "all_features = x.columns\n",
    "all_features"
   ]
  },
  {
   "cell_type": "code",
   "execution_count": null,
   "id": "4b16e05b",
   "metadata": {
    "execution": {
     "iopub.execute_input": "2024-08-30T14:40:50.597705Z",
     "iopub.status.busy": "2024-08-30T14:40:50.597304Z",
     "iopub.status.idle": "2024-08-30T14:40:51.094494Z",
     "shell.execute_reply": "2024-08-30T14:40:51.093145Z"
    },
    "papermill": {
     "duration": 0.548659,
     "end_time": "2024-08-30T14:40:51.097177",
     "exception": false,
     "start_time": "2024-08-30T14:40:50.548518",
     "status": "completed"
    },
    "tags": []
   },
   "outputs": [],
   "source": [
    "from sklearn.tree import DecisionTreeClassifier\n",
    "from sklearn.feature_selection import SelectFromModel"
   ]
  },
  {
   "cell_type": "markdown",
   "id": "4687a2e5",
   "metadata": {},
   "source": [
    "「建立一個用 entropy 作為依據的決策樹分類模型，準備拿來訓練用或做特徵選擇。」"
   ]
  },
  {
   "cell_type": "code",
   "execution_count": null,
   "id": "c4b2b220",
   "metadata": {
    "execution": {
     "iopub.execute_input": "2024-08-30T14:40:51.193077Z",
     "iopub.status.busy": "2024-08-30T14:40:51.192607Z",
     "iopub.status.idle": "2024-08-30T14:40:51.197984Z",
     "shell.execute_reply": "2024-08-30T14:40:51.196740Z"
    },
    "papermill": {
     "duration": 0.056052,
     "end_time": "2024-08-30T14:40:51.200512",
     "exception": false,
     "start_time": "2024-08-30T14:40:51.144460",
     "status": "completed"
    },
    "tags": []
   },
   "outputs": [],
   "source": [
    "# Taking object from the library to use the model.\n",
    "# Use gini criterion to define feature importance.\n",
    "dtc = DecisionTreeClassifier(random_state=0, criterion='entropy') "
   ]
  },
  {
   "cell_type": "markdown",
   "id": "a8816ae5",
   "metadata": {},
   "source": [
    "「建立一個 SelectFromModel，準備用你剛剛建立的 DecisionTreeClassifier 來挑出重要特徵。」"
   ]
  },
  {
   "cell_type": "code",
   "execution_count": null,
   "id": "3744ed1c",
   "metadata": {
    "execution": {
     "iopub.execute_input": "2024-08-30T14:40:51.297967Z",
     "iopub.status.busy": "2024-08-30T14:40:51.296947Z",
     "iopub.status.idle": "2024-08-30T14:40:51.302400Z",
     "shell.execute_reply": "2024-08-30T14:40:51.301138Z"
    },
    "papermill": {
     "duration": 0.055987,
     "end_time": "2024-08-30T14:40:51.304872",
     "exception": false,
     "start_time": "2024-08-30T14:40:51.248885",
     "status": "completed"
    },
    "tags": []
   },
   "outputs": [],
   "source": [
    "selector = SelectFromModel(estimator=dtc)"
   ]
  },
  {
   "cell_type": "markdown",
   "id": "3726d752",
   "metadata": {},
   "source": [
    "「根據資料 x, y，讓 DecisionTreeClassifier 訓練起來，並用來篩選出重要特徵。」"
   ]
  },
  {
   "cell_type": "code",
   "execution_count": null,
   "id": "33418517",
   "metadata": {
    "execution": {
     "iopub.execute_input": "2024-08-30T14:40:51.402146Z",
     "iopub.status.busy": "2024-08-30T14:40:51.401239Z",
     "iopub.status.idle": "2024-08-30T14:40:51.424968Z",
     "shell.execute_reply": "2024-08-30T14:40:51.423653Z"
    },
    "papermill": {
     "duration": 0.074611,
     "end_time": "2024-08-30T14:40:51.427445",
     "exception": false,
     "start_time": "2024-08-30T14:40:51.352834",
     "status": "completed"
    },
    "tags": []
   },
   "outputs": [],
   "source": [
    "selector.fit(x, y)"
   ]
  },
  {
   "cell_type": "markdown",
   "id": "5bca8b41",
   "metadata": {},
   "source": [
    "「列出被挑選出來的重要特徵的索引位置（數字編號）。」"
   ]
  },
  {
   "cell_type": "code",
   "execution_count": null,
   "id": "adfee6d2",
   "metadata": {
    "execution": {
     "iopub.execute_input": "2024-08-30T14:40:51.532078Z",
     "iopub.status.busy": "2024-08-30T14:40:51.531595Z",
     "iopub.status.idle": "2024-08-30T14:40:51.540723Z",
     "shell.execute_reply": "2024-08-30T14:40:51.539440Z"
    },
    "papermill": {
     "duration": 0.065118,
     "end_time": "2024-08-30T14:40:51.543502",
     "exception": false,
     "start_time": "2024-08-30T14:40:51.478384",
     "status": "completed"
    },
    "tags": []
   },
   "outputs": [],
   "source": [
    "selector.get_support(indices=True)"
   ]
  },
  {
   "cell_type": "markdown",
   "id": "c60090fc",
   "metadata": {},
   "source": [
    "「把被挑選出來的重要特徵的欄位索引編號存起來，然後印出來看。」"
   ]
  },
  {
   "cell_type": "code",
   "execution_count": null,
   "id": "096125c2",
   "metadata": {
    "execution": {
     "iopub.execute_input": "2024-08-30T14:40:51.643013Z",
     "iopub.status.busy": "2024-08-30T14:40:51.642530Z",
     "iopub.status.idle": "2024-08-30T14:40:51.651085Z",
     "shell.execute_reply": "2024-08-30T14:40:51.649534Z"
    },
    "papermill": {
     "duration": 0.061069,
     "end_time": "2024-08-30T14:40:51.653420",
     "exception": false,
     "start_time": "2024-08-30T14:40:51.592351",
     "status": "completed"
    },
    "tags": []
   },
   "outputs": [],
   "source": [
    "selected_features_idx = selector.get_support(indices=True)\n",
    "selected_features_idx"
   ]
  },
  {
   "cell_type": "markdown",
   "id": "876528c1",
   "metadata": {},
   "source": [
    "「根據剛剛挑出來的欄位索引，從 all_features 裡取出被選中的特徵名稱。」"
   ]
  },
  {
   "cell_type": "code",
   "execution_count": null,
   "id": "9baf8bc2",
   "metadata": {
    "execution": {
     "iopub.execute_input": "2024-08-30T14:40:51.752015Z",
     "iopub.status.busy": "2024-08-30T14:40:51.751563Z",
     "iopub.status.idle": "2024-08-30T14:40:51.759130Z",
     "shell.execute_reply": "2024-08-30T14:40:51.757978Z"
    },
    "papermill": {
     "duration": 0.059961,
     "end_time": "2024-08-30T14:40:51.761557",
     "exception": false,
     "start_time": "2024-08-30T14:40:51.701596",
     "status": "completed"
    },
    "tags": []
   },
   "outputs": [],
   "source": [
    "selected_features = all_features[selected_features_idx]\n",
    "selected_features"
   ]
  },
  {
   "cell_type": "markdown",
   "id": "2f6f35f7",
   "metadata": {},
   "source": [
    "「手動選了一組你認為重要的特徵，準備拿來當作訓練模型用的輸入。」\n",
    "\n",
    "'Walc'：週末喝酒量\n",
    "\n",
    "'absences'：缺課次數\n",
    "\n",
    "'G1'：第一學期成績\n",
    "\n",
    "'G2'：第二學期成績"
   ]
  },
  {
   "cell_type": "code",
   "execution_count": null,
   "id": "279b62c0",
   "metadata": {
    "execution": {
     "iopub.execute_input": "2024-08-30T14:40:51.863186Z",
     "iopub.status.busy": "2024-08-30T14:40:51.862714Z",
     "iopub.status.idle": "2024-08-30T14:40:51.868442Z",
     "shell.execute_reply": "2024-08-30T14:40:51.867153Z"
    },
    "papermill": {
     "duration": 0.05959,
     "end_time": "2024-08-30T14:40:51.871187",
     "exception": false,
     "start_time": "2024-08-30T14:40:51.811597",
     "status": "completed"
    },
    "tags": []
   },
   "outputs": [],
   "source": [
    "feat = ['Walc', 'absences', 'G1', 'G2']"
   ]
  },
  {
   "cell_type": "markdown",
   "id": "962cada0",
   "metadata": {
    "papermill": {
     "duration": 0.048135,
     "end_time": "2024-08-30T14:40:51.969883",
     "exception": false,
     "start_time": "2024-08-30T14:40:51.921748",
     "status": "completed"
    },
    "tags": []
   },
   "source": [
    "# Model and Optimaization"
   ]
  },
  {
   "cell_type": "markdown",
   "id": "1f83bae5",
   "metadata": {
    "papermill": {
     "duration": 0.049779,
     "end_time": "2024-08-30T14:40:52.068344",
     "exception": false,
     "start_time": "2024-08-30T14:40:52.018565",
     "status": "completed"
    },
    "tags": []
   },
   "source": [
    " Random Forest Regression model"
   ]
  },
  {
   "cell_type": "markdown",
   "id": "018ab931",
   "metadata": {},
   "source": [
    "「用 RandomForestRegressor 模型，根據 Walc, absences, G1, G2 來預測學生的期末成績 G3，並評估預測準確性。」"
   ]
  },
  {
   "cell_type": "code",
   "execution_count": null,
   "id": "4cea70b9",
   "metadata": {
    "execution": {
     "iopub.execute_input": "2024-08-30T14:40:52.169667Z",
     "iopub.status.busy": "2024-08-30T14:40:52.169255Z",
     "iopub.status.idle": "2024-08-30T14:40:52.432272Z",
     "shell.execute_reply": "2024-08-30T14:40:52.430828Z"
    },
    "papermill": {
     "duration": 0.31695,
     "end_time": "2024-08-30T14:40:52.434933",
     "exception": false,
     "start_time": "2024-08-30T14:40:52.117983",
     "status": "completed"
    },
    "tags": []
   },
   "outputs": [],
   "source": [
    "# Random Forest Regression model\n",
    "from sklearn.model_selection import train_test_split\n",
    "from sklearn.ensemble import RandomForestRegressor\n",
    "from sklearn.metrics import mean_squared_error, r2_score\n",
    "\n",
    "# Separate features and target variable\n",
    "features = df[feat]  # Features\n",
    "target = df['G3']  # Target variable\n",
    "\n",
    "# Split data into training and testing sets\n",
    "X_train, X_test, y_train, y_test = train_test_split(features, target, test_size=0.2, random_state=42)\n",
    "\n",
    "# Initialize the Random Forest Regression with specified parameters\n",
    "RFR = RandomForestRegressor(random_state=100, criterion='squared_error', max_depth=30, min_samples_leaf=5, n_jobs=1)\n",
    "\n",
    "# Train the regression\n",
    "RFR.fit(X_train, y_train)\n",
    "\n",
    "# Predict on the testing data\n",
    "y_pred = RFR.predict(X_test)\n",
    "\n",
    "mse = mean_squared_error(y_test, y_pred)\n",
    "\n",
    "rmse = sqrt(mse)\n",
    "\n",
    "r2 = r2_score(y_test, y_pred)\n",
    "\n",
    "print(\"RFR Mean Squared Error MSE:\", mse)\n",
    "print(\"RFR Root Mean Squared Error RMSE:\", rmse)\n",
    "print(\"RFR R^2 Score:\", r2)"
   ]
  },
  {
   "cell_type": "markdown",
   "id": "3f35d175",
   "metadata": {},
   "source": [
    "「用 GridSearchCV 測試多組隨機森林參數組合，挑出最適合你資料的模型設定。」\n",
    "\n"
   ]
  },
  {
   "cell_type": "code",
   "execution_count": null,
   "id": "d0c35068",
   "metadata": {
    "execution": {
     "iopub.execute_input": "2024-08-30T14:40:52.540294Z",
     "iopub.status.busy": "2024-08-30T14:40:52.539876Z",
     "iopub.status.idle": "2024-08-30T15:01:36.713257Z",
     "shell.execute_reply": "2024-08-30T15:01:36.711825Z"
    },
    "papermill": {
     "duration": 1244.279172,
     "end_time": "2024-08-30T15:01:36.766179",
     "exception": false,
     "start_time": "2024-08-30T14:40:52.487007",
     "status": "completed"
    },
    "tags": []
   },
   "outputs": [],
   "source": [
    "# using Gridsearch for best performancing Random Forest Regression model (OPTIMAIZATION)\n",
    "from sklearn.model_selection import GridSearchCV\n",
    "number = [5,11,13,41,42,101]\n",
    "numbers = list(range(1, 31))\n",
    "param_grid = {'criterion': [\"squared_error\", \"absolute_error\"],\n",
    "              'random_state' : number,\n",
    "              'n_jobs' : [1, -1],\n",
    "              'max_depth' :  numbers}\n",
    "grid = GridSearchCV(RandomForestRegressor(),param_grid,cv = 5)\n",
    "grid.fit(X_train,y_train)\n",
    "grid.best_params_"
   ]
  },
  {
   "cell_type": "markdown",
   "id": "1aa45177",
   "metadata": {},
   "source": [
    "取得 GridSearchCV 幫你找出的最佳 RandomForestRegressor 模型（含最佳參數），並準備直接拿來用"
   ]
  },
  {
   "cell_type": "code",
   "execution_count": null,
   "id": "9118f438",
   "metadata": {
    "execution": {
     "iopub.execute_input": "2024-08-30T15:01:36.866460Z",
     "iopub.status.busy": "2024-08-30T15:01:36.866029Z",
     "iopub.status.idle": "2024-08-30T15:01:36.875816Z",
     "shell.execute_reply": "2024-08-30T15:01:36.874311Z"
    },
    "papermill": {
     "duration": 0.062995,
     "end_time": "2024-08-30T15:01:36.878477",
     "exception": false,
     "start_time": "2024-08-30T15:01:36.815482",
     "status": "completed"
    },
    "tags": []
   },
   "outputs": [],
   "source": [
    "grid.best_estimator_"
   ]
  },
  {
   "cell_type": "markdown",
   "id": "38dc0d1a",
   "metadata": {},
   "source": [
    "使用最佳化後的隨機森林模型來預測 G3，並計算其 MSE、RMSE、R² 表現。"
   ]
  },
  {
   "cell_type": "code",
   "execution_count": null,
   "id": "25666942",
   "metadata": {
    "execution": {
     "iopub.execute_input": "2024-08-30T15:01:36.981655Z",
     "iopub.status.busy": "2024-08-30T15:01:36.981210Z",
     "iopub.status.idle": "2024-08-30T15:01:37.030029Z",
     "shell.execute_reply": "2024-08-30T15:01:37.028765Z"
    },
    "papermill": {
     "duration": 0.104763,
     "end_time": "2024-08-30T15:01:37.033289",
     "exception": false,
     "start_time": "2024-08-30T15:01:36.928526",
     "status": "completed"
    },
    "tags": []
   },
   "outputs": [],
   "source": [
    "grid_predictions = grid.predict(X_test)\n",
    "\n",
    "mse = mean_squared_error(y_test, grid_predictions)\n",
    "\n",
    "rmse = sqrt(mse)\n",
    "\n",
    "r2 = r2_score(y_test, grid_predictions)\n",
    "\n",
    "print(\"Optimaized RFR Mean Squared Error MSE:\", mse)\n",
    "print(\"Optimaized RFR Root Mean Squared Error RMSE:\", rmse)\n",
    "print(\"Optimaized RFR R^2 Score:\", r2)"
   ]
  },
  {
   "cell_type": "markdown",
   "id": "6dd1518f",
   "metadata": {},
   "source": [
    "列出 RandomForestRegressor 可設定的所有參數名稱（超參數），方便你知道可以調哪些東西。"
   ]
  },
  {
   "cell_type": "code",
   "execution_count": null,
   "id": "09664bc2",
   "metadata": {
    "execution": {
     "iopub.execute_input": "2024-08-30T15:01:37.136573Z",
     "iopub.status.busy": "2024-08-30T15:01:37.136142Z",
     "iopub.status.idle": "2024-08-30T15:01:37.143582Z",
     "shell.execute_reply": "2024-08-30T15:01:37.141972Z"
    },
    "papermill": {
     "duration": 0.063621,
     "end_time": "2024-08-30T15:01:37.147652",
     "exception": false,
     "start_time": "2024-08-30T15:01:37.084031",
     "status": "completed"
    },
    "tags": []
   },
   "outputs": [],
   "source": [
    "# Get the list of available parameters in Random Forest Regression model\n",
    "parameters = RandomForestRegressor().get_params().keys()\n",
    "\n",
    "# Print the list of available parameters\n",
    "print(parameters)"
   ]
  },
  {
   "cell_type": "markdown",
   "id": "0e739032",
   "metadata": {
    "papermill": {
     "duration": 0.050116,
     "end_time": "2024-08-30T15:01:37.351473",
     "exception": false,
     "start_time": "2024-08-30T15:01:37.301357",
     "status": "completed"
    },
    "tags": []
   },
   "source": [
    " Decision Tree Regression model\n"
   ]
  },
  {
   "cell_type": "markdown",
   "id": "c6942d9d",
   "metadata": {},
   "source": [
    "用決策樹回歸模型（DecisionTreeRegressor）來預測 G3 成績，並計算 MSE、RMSE、R² 指標評估預測效果。"
   ]
  },
  {
   "cell_type": "code",
   "execution_count": null,
   "id": "3ba26323",
   "metadata": {
    "execution": {
     "iopub.execute_input": "2024-08-30T15:01:37.456125Z",
     "iopub.status.busy": "2024-08-30T15:01:37.455690Z",
     "iopub.status.idle": "2024-08-30T15:01:37.474341Z",
     "shell.execute_reply": "2024-08-30T15:01:37.472551Z"
    },
    "papermill": {
     "duration": 0.073016,
     "end_time": "2024-08-30T15:01:37.477171",
     "exception": false,
     "start_time": "2024-08-30T15:01:37.404155",
     "status": "completed"
    },
    "tags": []
   },
   "outputs": [],
   "source": [
    "# Decision Tree Regression model\n",
    "from sklearn.model_selection import train_test_split\n",
    "from sklearn.tree import DecisionTreeRegressor\n",
    "from sklearn.metrics import mean_squared_error, r2_score\n",
    "\n",
    "# Separate features and target variable\n",
    "features = df[feat]  # Features\n",
    "target = df['G3']  # Target variable\n",
    "\n",
    "# Split data into training and testing sets\n",
    "X_train, X_test, y_train, y_test = train_test_split(features, target, test_size=0.2, random_state=42)\n",
    "\n",
    "# Initialize the Decision Tree Regression with specified parameters\n",
    "DTR = DecisionTreeRegressor(random_state=100, criterion='squared_error', max_depth=30, min_samples_leaf=5)\n",
    "\n",
    "# Train the regression\n",
    "DTR.fit(X_train, y_train)\n",
    "\n",
    "# Predict on the testing data\n",
    "y_pred = DTR.predict(X_test)\n",
    "\n",
    "mse = mean_squared_error(y_test, y_pred)\n",
    "\n",
    "rmse = sqrt(mse)\n",
    "\n",
    "r2 = r2_score(y_test, y_pred)\n",
    "\n",
    "print(\"DTR Mean Squared Error MSE:\", mse)\n",
    "print(\"DTR Root Mean Squared Error RMSE:\", rmse)\n",
    "print(\"DTR R^2 Score:\", r2)"
   ]
  },
  {
   "cell_type": "markdown",
   "id": "3db53d83",
   "metadata": {},
   "source": [
    "使用交叉驗證與參數搜尋，從上千種組合中挑出對 G3 預測最準確的決策樹回歸模型設定。"
   ]
  },
  {
   "cell_type": "code",
   "execution_count": null,
   "id": "bb149e88",
   "metadata": {
    "execution": {
     "iopub.execute_input": "2024-08-30T15:01:37.604884Z",
     "iopub.status.busy": "2024-08-30T15:01:37.604460Z",
     "iopub.status.idle": "2024-08-30T15:11:09.639214Z",
     "shell.execute_reply": "2024-08-30T15:11:09.637458Z"
    },
    "papermill": {
     "duration": 572.149498,
     "end_time": "2024-08-30T15:11:09.692807",
     "exception": false,
     "start_time": "2024-08-30T15:01:37.543309",
     "status": "completed"
    },
    "tags": []
   },
   "outputs": [],
   "source": [
    "# using Gridsearch for best performancing Decision Tree Regression model (OPTIMAIZATION)\n",
    "from sklearn.model_selection import GridSearchCV\n",
    "number = [5,11,13,41,42,101]\n",
    "numbers = list(range(1, 31))\n",
    "param_grid = {'random_state': number,\n",
    "              'criterion' : [\"squared_error\", \"absolute_error\", \"friedman_mse\", \"poisson\"],\n",
    "              'max_depth' : numbers,\n",
    "              'min_samples_leaf' :  numbers}\n",
    "grid = GridSearchCV(DecisionTreeRegressor(),param_grid,cv = 5)\n",
    "grid.fit(X_train,y_train)\n",
    "grid.best_params_"
   ]
  },
  {
   "cell_type": "markdown",
   "id": "74ec63f9",
   "metadata": {},
   "source": [
    "取得 GridSearchCV 幫你訓練出來的最佳 DecisionTreeRegressor 模型（含最佳參數設定），可以直接拿來預測使用。"
   ]
  },
  {
   "cell_type": "code",
   "execution_count": null,
   "id": "c993d8d6",
   "metadata": {
    "execution": {
     "iopub.execute_input": "2024-08-30T15:11:09.797904Z",
     "iopub.status.busy": "2024-08-30T15:11:09.797469Z",
     "iopub.status.idle": "2024-08-30T15:11:09.806191Z",
     "shell.execute_reply": "2024-08-30T15:11:09.804877Z"
    },
    "papermill": {
     "duration": 0.063557,
     "end_time": "2024-08-30T15:11:09.808894",
     "exception": false,
     "start_time": "2024-08-30T15:11:09.745337",
     "status": "completed"
    },
    "tags": []
   },
   "outputs": [],
   "source": [
    "grid.best_estimator_"
   ]
  },
  {
   "cell_type": "markdown",
   "id": "b88f89a0",
   "metadata": {},
   "source": [
    "用 GridSearch 找到的最佳決策樹回歸模型來預測 G3，並用 MSE、RMSE、R² 來量化它的預測效果。"
   ]
  },
  {
   "cell_type": "code",
   "execution_count": null,
   "id": "482747c5",
   "metadata": {
    "execution": {
     "iopub.execute_input": "2024-08-30T15:11:09.914697Z",
     "iopub.status.busy": "2024-08-30T15:11:09.914241Z",
     "iopub.status.idle": "2024-08-30T15:11:09.924908Z",
     "shell.execute_reply": "2024-08-30T15:11:09.923670Z"
    },
    "papermill": {
     "duration": 0.067941,
     "end_time": "2024-08-30T15:11:09.927636",
     "exception": false,
     "start_time": "2024-08-30T15:11:09.859695",
     "status": "completed"
    },
    "tags": []
   },
   "outputs": [],
   "source": [
    "grid_predictions = grid.predict(X_test)\n",
    "\n",
    "mse = mean_squared_error(y_test, grid_predictions)\n",
    "\n",
    "rmse = sqrt(mse)\n",
    "\n",
    "r2 = r2_score(y_test, grid_predictions)\n",
    "\n",
    "print(\"Optimaized DTR Mean Squared Error MSE:\", mse)\n",
    "print(\"Optimaized DTR Root Mean Squared Error RMSE:\", rmse)\n",
    "print(\"Optimaized DTR R^2 Score:\", r2)"
   ]
  },
  {
   "cell_type": "markdown",
   "id": "82d74f41",
   "metadata": {},
   "source": [
    "列出 DecisionTreeRegressor 所有可以調整的超參數名稱（keys），方便用來做 GridSearch 或模型微調。"
   ]
  },
  {
   "cell_type": "code",
   "execution_count": null,
   "id": "364d33ae",
   "metadata": {
    "execution": {
     "iopub.execute_input": "2024-08-30T15:11:10.030889Z",
     "iopub.status.busy": "2024-08-30T15:11:10.030478Z",
     "iopub.status.idle": "2024-08-30T15:11:10.036871Z",
     "shell.execute_reply": "2024-08-30T15:11:10.035542Z"
    },
    "papermill": {
     "duration": 0.061561,
     "end_time": "2024-08-30T15:11:10.040076",
     "exception": false,
     "start_time": "2024-08-30T15:11:09.978515",
     "status": "completed"
    },
    "tags": []
   },
   "outputs": [],
   "source": [
    "# Get the list of available parameters in Decision Tree Regression model\n",
    "parameters = DecisionTreeRegressor().get_params().keys()\n",
    "\n",
    "# Print the list of available parameters\n",
    "print(parameters)"
   ]
  },
  {
   "cell_type": "markdown",
   "id": "700bfa78",
   "metadata": {
    "papermill": {
     "duration": 0.064053,
     "end_time": "2024-08-30T15:11:10.260382",
     "exception": false,
     "start_time": "2024-08-30T15:11:10.196329",
     "status": "completed"
    },
    "tags": []
   },
   "source": [
    "Linear Regression model\n"
   ]
  },
  {
   "cell_type": "markdown",
   "id": "1ca08bdd",
   "metadata": {},
   "source": [
    "基本上跟上面兩個模型的方法一樣兩個模型的方法一樣"
   ]
  },
  {
   "cell_type": "code",
   "execution_count": null,
   "id": "4bdea2aa",
   "metadata": {
    "execution": {
     "iopub.execute_input": "2024-08-30T15:11:10.369996Z",
     "iopub.status.busy": "2024-08-30T15:11:10.369586Z",
     "iopub.status.idle": "2024-08-30T15:11:10.408731Z",
     "shell.execute_reply": "2024-08-30T15:11:10.407365Z"
    },
    "papermill": {
     "duration": 0.097289,
     "end_time": "2024-08-30T15:11:10.411618",
     "exception": false,
     "start_time": "2024-08-30T15:11:10.314329",
     "status": "completed"
    },
    "tags": []
   },
   "outputs": [],
   "source": [
    "# Linear Regression model\n",
    "from sklearn.model_selection import train_test_split\n",
    "from sklearn.linear_model import LinearRegression\n",
    "from sklearn.metrics import mean_squared_error, r2_score\n",
    "\n",
    "# Separate features and target variable\n",
    "features = df[feat]  # Features\n",
    "target = df['G3']  # Target variable\n",
    "\n",
    "# Split data into training and testing sets\n",
    "X_train, X_test, y_train, y_test = train_test_split(features, target, test_size=0.2, random_state=42)\n",
    "\n",
    "# Initialize the Linear Regression with specified parameters\n",
    "LR = LinearRegression(fit_intercept= True ,n_jobs = 1)\n",
    "\n",
    "# Train the regression\n",
    "LR.fit(X_train, y_train)\n",
    "\n",
    "# Predict on the testing data\n",
    "y_pred = LR.predict(X_test)\n",
    "\n",
    "mse = mean_squared_error(y_test, y_pred)\n",
    "\n",
    "rmse = sqrt(mse)\n",
    "\n",
    "r2 = r2_score(y_test, y_pred)\n",
    "\n",
    "print(\"LR Mean Squared Error MSE:\", mse)\n",
    "print(\"LR Root Mean Squared Error RMSE:\", rmse)\n",
    "print(\"LR R^2 Score:\", r2)"
   ]
  },
  {
   "cell_type": "code",
   "execution_count": null,
   "id": "3ee0e533",
   "metadata": {
    "execution": {
     "iopub.execute_input": "2024-08-30T15:11:10.515130Z",
     "iopub.status.busy": "2024-08-30T15:11:10.514674Z",
     "iopub.status.idle": "2024-08-30T15:11:10.627238Z",
     "shell.execute_reply": "2024-08-30T15:11:10.625915Z"
    },
    "papermill": {
     "duration": 0.167471,
     "end_time": "2024-08-30T15:11:10.629791",
     "exception": false,
     "start_time": "2024-08-30T15:11:10.462320",
     "status": "completed"
    },
    "tags": []
   },
   "outputs": [],
   "source": [
    "# using Gridsearch for best performancing Linear Regression model (OPTIMAIZATION)\n",
    "from sklearn.model_selection import GridSearchCV\n",
    "\n",
    "param_grid = {'fit_intercept': [True, False],\n",
    "              'n_jobs' : [1, -1]}\n",
    "grid = GridSearchCV(LinearRegression(),param_grid,cv = 5)\n",
    "grid.fit(X_train,y_train)\n",
    "grid.best_params_"
   ]
  },
  {
   "cell_type": "code",
   "execution_count": null,
   "id": "5809b535",
   "metadata": {
    "execution": {
     "iopub.execute_input": "2024-08-30T15:11:10.733946Z",
     "iopub.status.busy": "2024-08-30T15:11:10.733529Z",
     "iopub.status.idle": "2024-08-30T15:11:10.741528Z",
     "shell.execute_reply": "2024-08-30T15:11:10.740379Z"
    },
    "papermill": {
     "duration": 0.062482,
     "end_time": "2024-08-30T15:11:10.743923",
     "exception": false,
     "start_time": "2024-08-30T15:11:10.681441",
     "status": "completed"
    },
    "tags": []
   },
   "outputs": [],
   "source": [
    "grid.best_estimator_"
   ]
  },
  {
   "cell_type": "code",
   "execution_count": null,
   "id": "a8bc0c76",
   "metadata": {
    "execution": {
     "iopub.execute_input": "2024-08-30T15:11:10.848625Z",
     "iopub.status.busy": "2024-08-30T15:11:10.848214Z",
     "iopub.status.idle": "2024-08-30T15:11:10.858381Z",
     "shell.execute_reply": "2024-08-30T15:11:10.856988Z"
    },
    "papermill": {
     "duration": 0.066147,
     "end_time": "2024-08-30T15:11:10.861504",
     "exception": false,
     "start_time": "2024-08-30T15:11:10.795357",
     "status": "completed"
    },
    "tags": []
   },
   "outputs": [],
   "source": [
    "grid_predictions = grid.predict(X_test)\n",
    "\n",
    "mse = mean_squared_error(y_test, grid_predictions)\n",
    "\n",
    "rmse = sqrt(mse)\n",
    "\n",
    "r2 = r2_score(y_test, grid_predictions)\n",
    "\n",
    "print(\"Optimaized LR Mean Squared Error MSE:\", mse)\n",
    "print(\"Optimaized LR Root Mean Squared Error RMSE:\", rmse)\n",
    "print(\"Optimaized LR R^2 Score:\", r2)"
   ]
  },
  {
   "cell_type": "code",
   "execution_count": null,
   "id": "48715a91",
   "metadata": {
    "execution": {
     "iopub.execute_input": "2024-08-30T15:11:10.974249Z",
     "iopub.status.busy": "2024-08-30T15:11:10.972991Z",
     "iopub.status.idle": "2024-08-30T15:11:10.980381Z",
     "shell.execute_reply": "2024-08-30T15:11:10.978857Z"
    },
    "papermill": {
     "duration": 0.067415,
     "end_time": "2024-08-30T15:11:10.983412",
     "exception": false,
     "start_time": "2024-08-30T15:11:10.915997",
     "status": "completed"
    },
    "tags": []
   },
   "outputs": [],
   "source": [
    "# Get the list of available parameters in Linear Regression model\n",
    "parameters = LinearRegression().get_params().keys()\n",
    "\n",
    "# Print the list of available parameters\n",
    "print(parameters)"
   ]
  },
  {
   "cell_type": "code",
   "execution_count": null,
   "id": "ccfcbb98",
   "metadata": {
    "papermill": {
     "duration": 0.05215,
     "end_time": "2024-08-30T15:11:11.087108",
     "exception": false,
     "start_time": "2024-08-30T15:11:11.034958",
     "status": "completed"
    },
    "tags": []
   },
   "outputs": [],
   "source": []
  },
  {
   "cell_type": "markdown",
   "id": "295962d6",
   "metadata": {
    "papermill": {
     "duration": 0.052896,
     "end_time": "2024-08-30T15:11:11.193899",
     "exception": false,
     "start_time": "2024-08-30T15:11:11.141003",
     "status": "completed"
    },
    "tags": []
   },
   "source": [
    "Support Vector Machine Regression model\n"
   ]
  },
  {
   "cell_type": "markdown",
   "id": "59fdf76d",
   "metadata": {},
   "source": [
    "同理"
   ]
  },
  {
   "cell_type": "code",
   "execution_count": null,
   "id": "d173a44e",
   "metadata": {
    "execution": {
     "iopub.execute_input": "2024-08-30T15:11:11.299982Z",
     "iopub.status.busy": "2024-08-30T15:11:11.298983Z",
     "iopub.status.idle": "2024-08-30T15:11:11.343790Z",
     "shell.execute_reply": "2024-08-30T15:11:11.342441Z"
    },
    "papermill": {
     "duration": 0.099862,
     "end_time": "2024-08-30T15:11:11.346728",
     "exception": false,
     "start_time": "2024-08-30T15:11:11.246866",
     "status": "completed"
    },
    "tags": []
   },
   "outputs": [],
   "source": [
    "# Support Vector Machine Regression model\n",
    "from sklearn.model_selection import train_test_split\n",
    "from sklearn.svm import SVR\n",
    "from sklearn.metrics import mean_squared_error, r2_score\n",
    "\n",
    "# Separate features and target variable\n",
    "features = df[feat]  # Features\n",
    "target = df['G3']  # Target variable\n",
    "\n",
    "# Split data into training and testing sets\n",
    "X_train, X_test, y_train, y_test = train_test_split(features, target, test_size=0.2, random_state=42)\n",
    "\n",
    "# Initialize the Support Vector Machine Regression  with specified parameters\n",
    "SVMR = SVR(kernel ='poly')\n",
    "\n",
    "# Train the regression\n",
    "SVMR.fit(X_train, y_train)\n",
    "\n",
    "# Predict on the testing data\n",
    "y_pred = SVMR.predict(X_test)\n",
    "\n",
    "mse = mean_squared_error(y_test, y_pred)\n",
    "\n",
    "rmse = sqrt(mse)\n",
    "\n",
    "r2 = r2_score(y_test, y_pred)\n",
    "\n",
    "\n",
    "print(\"SVMR Mean Squared Error MSE:\", mse)\n",
    "print(\"SVMR Root Mean Squared Error RMSE:\", rmse)\n",
    "print(\"SVMR R^2 Score:\", r2)"
   ]
  },
  {
   "cell_type": "code",
   "execution_count": null,
   "id": "3eae1177",
   "metadata": {
    "execution": {
     "iopub.execute_input": "2024-08-30T15:11:11.453835Z",
     "iopub.status.busy": "2024-08-30T15:11:11.453399Z",
     "iopub.status.idle": "2024-08-30T15:11:17.016752Z",
     "shell.execute_reply": "2024-08-30T15:11:17.015460Z"
    },
    "papermill": {
     "duration": 5.620362,
     "end_time": "2024-08-30T15:11:17.019444",
     "exception": false,
     "start_time": "2024-08-30T15:11:11.399082",
     "status": "completed"
    },
    "scrolled": true,
    "tags": []
   },
   "outputs": [],
   "source": [
    "# using Gridsearch for best performancing Support Vector Machine Regression model (OPTIMAIZATION)\n",
    "from sklearn.model_selection import GridSearchCV\n",
    "number = [5,11,13,41,42,101]\n",
    "numbers = list(range(1, 11))\n",
    "param_grid = {'gamma' : ['scale', 'auto'],\n",
    "              'kernel' : ['linear', 'rbf', 'sigmoid'],\n",
    "              'degree' :  numbers}\n",
    "grid = GridSearchCV(SVR(),param_grid,refit=True, verbose=3, cv = 5)\n",
    "grid.fit(X_train,y_train)\n",
    "grid.best_params_"
   ]
  },
  {
   "cell_type": "code",
   "execution_count": null,
   "id": "c6c91826",
   "metadata": {
    "execution": {
     "iopub.execute_input": "2024-08-30T15:11:17.135566Z",
     "iopub.status.busy": "2024-08-30T15:11:17.135124Z",
     "iopub.status.idle": "2024-08-30T15:11:17.143769Z",
     "shell.execute_reply": "2024-08-30T15:11:17.142572Z"
    },
    "papermill": {
     "duration": 0.068198,
     "end_time": "2024-08-30T15:11:17.146440",
     "exception": false,
     "start_time": "2024-08-30T15:11:17.078242",
     "status": "completed"
    },
    "tags": []
   },
   "outputs": [],
   "source": [
    "grid.best_estimator_"
   ]
  },
  {
   "cell_type": "code",
   "execution_count": null,
   "id": "adfdb606",
   "metadata": {
    "execution": {
     "iopub.execute_input": "2024-08-30T15:11:17.262067Z",
     "iopub.status.busy": "2024-08-30T15:11:17.261621Z",
     "iopub.status.idle": "2024-08-30T15:11:17.272613Z",
     "shell.execute_reply": "2024-08-30T15:11:17.271262Z"
    },
    "papermill": {
     "duration": 0.071444,
     "end_time": "2024-08-30T15:11:17.275160",
     "exception": false,
     "start_time": "2024-08-30T15:11:17.203716",
     "status": "completed"
    },
    "tags": []
   },
   "outputs": [],
   "source": [
    "grid_predictions = grid.predict(X_test)\n",
    "\n",
    "mse = mean_squared_error(y_test, grid_predictions)\n",
    "\n",
    "rmse = sqrt(mse)\n",
    "\n",
    "r2 = r2_score(y_test, grid_predictions)\n",
    "\n",
    "print(\"Optimaized SVMR Mean Squared Error MSE:\", mse)\n",
    "print(\"Optimaized SVMR Root Mean Squared Error RMSE:\", rmse)\n",
    "print(\"Optimaized SVMR R^2 Score:\", r2)"
   ]
  },
  {
   "cell_type": "code",
   "execution_count": null,
   "id": "a1c57ecd",
   "metadata": {
    "execution": {
     "iopub.execute_input": "2024-08-30T15:11:17.389544Z",
     "iopub.status.busy": "2024-08-30T15:11:17.389138Z",
     "iopub.status.idle": "2024-08-30T15:11:17.395301Z",
     "shell.execute_reply": "2024-08-30T15:11:17.394134Z"
    },
    "papermill": {
     "duration": 0.067922,
     "end_time": "2024-08-30T15:11:17.397808",
     "exception": false,
     "start_time": "2024-08-30T15:11:17.329886",
     "status": "completed"
    },
    "tags": []
   },
   "outputs": [],
   "source": [
    "# Get the list of available parameters in Support Vector Machine Regression model\n",
    "parameters = SVR().get_params().keys()\n",
    "\n",
    "# Print the list of available parameters\n",
    "print(parameters)"
   ]
  },
  {
   "cell_type": "code",
   "execution_count": null,
   "id": "b84accc1",
   "metadata": {
    "papermill": {
     "duration": 0.067341,
     "end_time": "2024-08-30T15:11:17.520927",
     "exception": false,
     "start_time": "2024-08-30T15:11:17.453586",
     "status": "completed"
    },
    "tags": []
   },
   "outputs": [],
   "source": []
  },
  {
   "cell_type": "markdown",
   "id": "95e39461",
   "metadata": {
    "papermill": {
     "duration": 0.055566,
     "end_time": "2024-08-30T15:11:17.642288",
     "exception": false,
     "start_time": "2024-08-30T15:11:17.586722",
     "status": "completed"
    },
    "tags": []
   },
   "source": [
    "XGBoost Regression model\n"
   ]
  },
  {
   "cell_type": "markdown",
   "id": "ef3edb8e",
   "metadata": {},
   "source": [
    "同理"
   ]
  },
  {
   "cell_type": "code",
   "execution_count": null,
   "id": "778f3fac",
   "metadata": {
    "execution": {
     "iopub.execute_input": "2024-08-30T15:11:17.754507Z",
     "iopub.status.busy": "2024-08-30T15:11:17.754037Z",
     "iopub.status.idle": "2024-08-30T15:11:18.029842Z",
     "shell.execute_reply": "2024-08-30T15:11:18.028825Z"
    },
    "papermill": {
     "duration": 0.334433,
     "end_time": "2024-08-30T15:11:18.032314",
     "exception": false,
     "start_time": "2024-08-30T15:11:17.697881",
     "status": "completed"
    },
    "tags": []
   },
   "outputs": [],
   "source": [
    "# XGBoost Regression model\n",
    "from sklearn.model_selection import train_test_split\n",
    "from xgboost import XGBRegressor\n",
    "from sklearn.metrics import mean_squared_error, r2_score\n",
    "\n",
    "# Separate features and target variable\n",
    "features = df[feat]  # Features\n",
    "target = df['G3']  # Target variable\n",
    "\n",
    "# Split data into training and testing sets\n",
    "X_train, X_test, y_train, y_test = train_test_split(features, target, test_size=0.2, random_state=42)\n",
    "\n",
    "# Initialize the XGBoost Regression with specified parameters\n",
    "XGBR = XGBRegressor(gamma= 0.3, random_state= 42, n_estimators=11, n_jobs= -1, max_depth=10)\n",
    "\n",
    "# Train the regression\n",
    "XGBR.fit(X_train, y_train)\n",
    "\n",
    "# Predict on the testing data\n",
    "y_pred = XGBR.predict(X_test)\n",
    "\n",
    "mse = mean_squared_error(y_test, y_pred)\n",
    "\n",
    "rmse = sqrt(mse)\n",
    "\n",
    "r2 = r2_score(y_test, y_pred)\n",
    "\n",
    "print(\"XGBR Mean Squared Error MSE:\", mse)\n",
    "print(\"XGBR Root Mean Squared Error RMSE:\", rmse)\n",
    "print(\"XGBR R^2 Score:\", r2)"
   ]
  },
  {
   "cell_type": "code",
   "execution_count": null,
   "id": "b0b17476",
   "metadata": {
    "execution": {
     "iopub.execute_input": "2024-08-30T15:11:18.144742Z",
     "iopub.status.busy": "2024-08-30T15:11:18.144307Z",
     "iopub.status.idle": "2024-08-30T15:12:58.851786Z",
     "shell.execute_reply": "2024-08-30T15:12:58.850561Z"
    },
    "papermill": {
     "duration": 100.821696,
     "end_time": "2024-08-30T15:12:58.909819",
     "exception": false,
     "start_time": "2024-08-30T15:11:18.088123",
     "status": "completed"
    },
    "scrolled": true,
    "tags": []
   },
   "outputs": [],
   "source": [
    "# using Gridsearch for best performancing XGBoost Regression model (OPTIMAIZATION)\n",
    "from sklearn.model_selection import GridSearchCV\n",
    "number = [5,11,13,41,42,101]\n",
    "numbers = list(range(1, 11))\n",
    "param_grid = {'random_state' : number,\n",
    "              'n_estimators' : numbers,\n",
    "              'n_jobs' :  [1, -1],\n",
    "              'max_depth': numbers}\n",
    "grid = GridSearchCV(XGBRegressor(), param_grid, cv = 5)\n",
    "grid.fit(X_train,y_train)\n",
    "grid.best_params_"
   ]
  },
  {
   "cell_type": "code",
   "execution_count": null,
   "id": "7b20ac95",
   "metadata": {
    "execution": {
     "iopub.execute_input": "2024-08-30T15:12:59.024676Z",
     "iopub.status.busy": "2024-08-30T15:12:59.024229Z",
     "iopub.status.idle": "2024-08-30T15:12:59.035261Z",
     "shell.execute_reply": "2024-08-30T15:12:59.034125Z"
    },
    "papermill": {
     "duration": 0.072421,
     "end_time": "2024-08-30T15:12:59.037835",
     "exception": false,
     "start_time": "2024-08-30T15:12:58.965414",
     "status": "completed"
    },
    "tags": []
   },
   "outputs": [],
   "source": [
    "grid.best_estimator_"
   ]
  },
  {
   "cell_type": "code",
   "execution_count": null,
   "id": "7a9dfd09",
   "metadata": {
    "execution": {
     "iopub.execute_input": "2024-08-30T15:12:59.151536Z",
     "iopub.status.busy": "2024-08-30T15:12:59.151083Z",
     "iopub.status.idle": "2024-08-30T15:12:59.164687Z",
     "shell.execute_reply": "2024-08-30T15:12:59.163039Z"
    },
    "papermill": {
     "duration": 0.073772,
     "end_time": "2024-08-30T15:12:59.167487",
     "exception": false,
     "start_time": "2024-08-30T15:12:59.093715",
     "status": "completed"
    },
    "tags": []
   },
   "outputs": [],
   "source": [
    "grid_predictions = grid.predict(X_test)\n",
    "\n",
    "mse = mean_squared_error(y_test, grid_predictions)\n",
    "\n",
    "rmse = sqrt(mse)\n",
    "\n",
    "r2 = r2_score(y_test, grid_predictions)\n",
    "\n",
    "print(\"Optimaized XGBR Mean Squared Error MSE:\", mse)\n",
    "print(\"Optimaized XGBR Root Mean Squared Error RMSE:\", rmse)\n",
    "print(\"Optimaized XGBR R^2 Score:\", r2)"
   ]
  },
  {
   "cell_type": "code",
   "execution_count": null,
   "id": "9306b4c6",
   "metadata": {
    "execution": {
     "iopub.execute_input": "2024-08-30T15:12:59.283037Z",
     "iopub.status.busy": "2024-08-30T15:12:59.282603Z",
     "iopub.status.idle": "2024-08-30T15:12:59.289529Z",
     "shell.execute_reply": "2024-08-30T15:12:59.288232Z"
    },
    "papermill": {
     "duration": 0.066653,
     "end_time": "2024-08-30T15:12:59.292144",
     "exception": false,
     "start_time": "2024-08-30T15:12:59.225491",
     "status": "completed"
    },
    "tags": []
   },
   "outputs": [],
   "source": [
    "# Get the list of available parameters in XGBoost Regression model\n",
    "parameters = XGBRegressor().get_params().keys()\n",
    "\n",
    "# Print the list of available parameters\n",
    "print(parameters)"
   ]
  },
  {
   "cell_type": "code",
   "execution_count": null,
   "id": "35993893",
   "metadata": {
    "papermill": {
     "duration": 0.055533,
     "end_time": "2024-08-30T15:12:59.407317",
     "exception": false,
     "start_time": "2024-08-30T15:12:59.351784",
     "status": "completed"
    },
    "tags": []
   },
   "outputs": [],
   "source": []
  },
  {
   "cell_type": "markdown",
   "id": "eda4688f",
   "metadata": {
    "papermill": {
     "duration": 0.056005,
     "end_time": "2024-08-30T15:12:59.521078",
     "exception": false,
     "start_time": "2024-08-30T15:12:59.465073",
     "status": "completed"
    },
    "tags": []
   },
   "source": [
    "K Nearest Neighbors Regression model\n"
   ]
  },
  {
   "cell_type": "markdown",
   "id": "03ea3f26",
   "metadata": {},
   "source": [
    "同理"
   ]
  },
  {
   "cell_type": "code",
   "execution_count": null,
   "id": "1406641a",
   "metadata": {
    "execution": {
     "iopub.execute_input": "2024-08-30T15:12:59.635831Z",
     "iopub.status.busy": "2024-08-30T15:12:59.635372Z",
     "iopub.status.idle": "2024-08-30T15:12:59.655715Z",
     "shell.execute_reply": "2024-08-30T15:12:59.654250Z"
    },
    "papermill": {
     "duration": 0.080577,
     "end_time": "2024-08-30T15:12:59.658313",
     "exception": false,
     "start_time": "2024-08-30T15:12:59.577736",
     "status": "completed"
    },
    "tags": []
   },
   "outputs": [],
   "source": [
    "# K Nearest Neighbors Regression model\n",
    "from sklearn.model_selection import train_test_split\n",
    "from sklearn.neighbors import KNeighborsRegressor\n",
    "from sklearn.metrics import mean_squared_error, r2_score\n",
    "\n",
    "# Separate features and target variable\n",
    "features = df[feat]  # Features\n",
    "target = df['G3']  # Target variable\n",
    "\n",
    "# Split data into training and testing sets\n",
    "X_train, X_test, y_train, y_test = train_test_split(features, target, test_size=0.2, random_state=42)\n",
    "\n",
    "# Initialize the K Nearest Neighbors Regression model with specified parameters\n",
    "KNNR = KNeighborsRegressor(n_neighbors= 7, n_jobs= 1, metric= 'manhattan')\n",
    "\n",
    "# Train the regression\n",
    "KNNR.fit(X_train, y_train)\n",
    "\n",
    "# Predict on the testing data\n",
    "y_pred = KNNR.predict(X_test)\n",
    "\n",
    "mse = mean_squared_error(y_test, y_pred)\n",
    "\n",
    "rmse = sqrt(mse)\n",
    "\n",
    "r2 = r2_score(y_test, y_pred)\n",
    "\n",
    "print(\"KNNR Mean Squared Error MSE:\", mse)\n",
    "print(\"KNNR Root Mean Squared Error RMSE:\", rmse)\n",
    "print(\"KNNR R^2 Score:\", r2)"
   ]
  },
  {
   "cell_type": "code",
   "execution_count": null,
   "id": "e2887f60",
   "metadata": {
    "execution": {
     "iopub.execute_input": "2024-08-30T15:12:59.772829Z",
     "iopub.status.busy": "2024-08-30T15:12:59.772407Z",
     "iopub.status.idle": "2024-08-30T15:13:01.989789Z",
     "shell.execute_reply": "2024-08-30T15:13:01.988687Z"
    },
    "papermill": {
     "duration": 2.277784,
     "end_time": "2024-08-30T15:13:01.992264",
     "exception": false,
     "start_time": "2024-08-30T15:12:59.714480",
     "status": "completed"
    },
    "tags": []
   },
   "outputs": [],
   "source": [
    "# using Gridsearch for best performancing K Nearest Neighbors Regression model (OPTIMAIZATION)\n",
    "from sklearn.model_selection import GridSearchCV\n",
    "number = [5,11,13,41,42,101]\n",
    "numbers = list(range(1, 51))\n",
    "param_grid = {'n_neighbors': number,\n",
    "              'n_jobs' :  [1, -1],\n",
    "              'metric' : ['manhattan','euclidean','minkowski']}\n",
    "grid = GridSearchCV(KNeighborsRegressor(),param_grid,cv = 5)\n",
    "grid.fit(X_train,y_train)\n",
    "grid.best_params_"
   ]
  },
  {
   "cell_type": "code",
   "execution_count": null,
   "id": "ca014a9c",
   "metadata": {
    "execution": {
     "iopub.execute_input": "2024-08-30T15:13:02.111177Z",
     "iopub.status.busy": "2024-08-30T15:13:02.109986Z",
     "iopub.status.idle": "2024-08-30T15:13:02.118802Z",
     "shell.execute_reply": "2024-08-30T15:13:02.117543Z"
    },
    "papermill": {
     "duration": 0.07213,
     "end_time": "2024-08-30T15:13:02.121263",
     "exception": false,
     "start_time": "2024-08-30T15:13:02.049133",
     "status": "completed"
    },
    "tags": []
   },
   "outputs": [],
   "source": [
    "grid.best_estimator_"
   ]
  },
  {
   "cell_type": "code",
   "execution_count": null,
   "id": "94b7df01",
   "metadata": {
    "execution": {
     "iopub.execute_input": "2024-08-30T15:13:02.237479Z",
     "iopub.status.busy": "2024-08-30T15:13:02.236561Z",
     "iopub.status.idle": "2024-08-30T15:13:02.248297Z",
     "shell.execute_reply": "2024-08-30T15:13:02.246871Z"
    },
    "papermill": {
     "duration": 0.073146,
     "end_time": "2024-08-30T15:13:02.250946",
     "exception": false,
     "start_time": "2024-08-30T15:13:02.177800",
     "status": "completed"
    },
    "tags": []
   },
   "outputs": [],
   "source": [
    "grid_predictions = grid.predict(X_test)\n",
    "\n",
    "mse = mean_squared_error(y_test, grid_predictions)\n",
    "\n",
    "rmse = sqrt(mse)\n",
    "\n",
    "r2 = r2_score(y_test, grid_predictions)\n",
    "\n",
    "print(\"Optimaized KNNR Mean Squared Error MSE:\", mse)\n",
    "print(\"Optimaized KNNR Root Mean Squared Error RMSE:\", rmse)\n",
    "print(\"Optimaized KNNR R^2 Score:\", r2)"
   ]
  },
  {
   "cell_type": "code",
   "execution_count": null,
   "id": "b63a93f0",
   "metadata": {
    "execution": {
     "iopub.execute_input": "2024-08-30T15:13:02.369175Z",
     "iopub.status.busy": "2024-08-30T15:13:02.368706Z",
     "iopub.status.idle": "2024-08-30T15:13:02.375449Z",
     "shell.execute_reply": "2024-08-30T15:13:02.373990Z"
    },
    "papermill": {
     "duration": 0.069015,
     "end_time": "2024-08-30T15:13:02.378238",
     "exception": false,
     "start_time": "2024-08-30T15:13:02.309223",
     "status": "completed"
    },
    "tags": []
   },
   "outputs": [],
   "source": [
    "# Get the list of available parameters in K Nearest Neighbors Regression model\n",
    "parameters = KNeighborsRegressor().get_params().keys()\n",
    "\n",
    "# Print the list of available parameters\n",
    "print(parameters)"
   ]
  }
 ],
 "metadata": {
  "kaggle": {
   "accelerator": "none",
   "dataSources": [
    {
     "datasetId": 573975,
     "sourceId": 1039955,
     "sourceType": "datasetVersion"
    }
   ],
   "dockerImageVersionId": 30761,
   "isGpuEnabled": false,
   "isInternetEnabled": true,
   "language": "python",
   "sourceType": "notebook"
  },
  "kernelspec": {
   "display_name": "Python 3",
   "language": "python",
   "name": "python3"
  },
  "language_info": {
   "codemirror_mode": {
    "name": "ipython",
    "version": 3
   },
   "file_extension": ".py",
   "mimetype": "text/x-python",
   "name": "python",
   "nbconvert_exporter": "python",
   "pygments_lexer": "ipython3",
   "version": "3.10.14"
  },
  "papermill": {
   "default_parameters": {},
   "duration": 1965.656201,
   "end_time": "2024-08-30T15:13:03.592558",
   "environment_variables": {},
   "exception": null,
   "input_path": "__notebook__.ipynb",
   "output_path": "__notebook__.ipynb",
   "parameters": {},
   "start_time": "2024-08-30T14:40:17.936357",
   "version": "2.6.0"
  }
 },
 "nbformat": 4,
 "nbformat_minor": 5
}
